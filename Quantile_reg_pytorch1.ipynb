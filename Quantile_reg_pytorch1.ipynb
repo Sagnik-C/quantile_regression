{
 "cells": [
  {
   "cell_type": "markdown",
   "id": "d730b03a",
   "metadata": {},
   "source": [
    "## Importing necessary libraries and dataset"
   ]
  },
  {
   "cell_type": "code",
   "execution_count": 1,
   "id": "b740332e",
   "metadata": {
    "id": "b740332e"
   },
   "outputs": [],
   "source": [
    "import numpy as np\n",
    "import pandas as pd\n",
    "from sklearn.preprocessing import LabelEncoder, OneHotEncoder\n",
    "from sklearn.metrics import mean_absolute_error as mae\n",
    "from matplotlib import pyplot as plt\n",
    "from sklearn.linear_model import Ridge"
   ]
  },
  {
   "cell_type": "code",
   "execution_count": 2,
   "id": "efc8ece4",
   "metadata": {
    "colab": {
     "base_uri": "https://localhost:8080/",
     "height": 483
    },
    "executionInfo": {
     "elapsed": 1347,
     "status": "ok",
     "timestamp": 1642511277820,
     "user": {
      "displayName": "Divyansh Raghuwanshi",
      "photoUrl": "https://lh3.googleusercontent.com/a/default-user=s64",
      "userId": "09313975529274446593"
     },
     "user_tz": -330
    },
    "id": "efc8ece4",
    "outputId": "a74f25ce-c323-4964-c50d-94b76c394d1e",
    "scrolled": false
   },
   "outputs": [
    {
     "data": {
      "text/html": [
       "<div>\n",
       "<style scoped>\n",
       "    .dataframe tbody tr th:only-of-type {\n",
       "        vertical-align: middle;\n",
       "    }\n",
       "\n",
       "    .dataframe tbody tr th {\n",
       "        vertical-align: top;\n",
       "    }\n",
       "\n",
       "    .dataframe thead th {\n",
       "        text-align: right;\n",
       "    }\n",
       "</style>\n",
       "<table border=\"1\" class=\"dataframe\">\n",
       "  <thead>\n",
       "    <tr style=\"text-align: right;\">\n",
       "      <th></th>\n",
       "      <th>date_crawled</th>\n",
       "      <th>name</th>\n",
       "      <th>dollar_price</th>\n",
       "      <th>vehicle_type</th>\n",
       "      <th>registration_year</th>\n",
       "      <th>gearbox</th>\n",
       "      <th>power_ps</th>\n",
       "      <th>model</th>\n",
       "      <th>kilometer</th>\n",
       "      <th>registration_month</th>\n",
       "      <th>fuel_type</th>\n",
       "      <th>brand</th>\n",
       "      <th>unrepaired_damage</th>\n",
       "      <th>ad_created</th>\n",
       "      <th>postal_code</th>\n",
       "      <th>last_seen_online</th>\n",
       "    </tr>\n",
       "  </thead>\n",
       "  <tbody>\n",
       "    <tr>\n",
       "      <th>0</th>\n",
       "      <td>2016-03-24</td>\n",
       "      <td>A5_Sportback_2.7_Tdi</td>\n",
       "      <td>18300</td>\n",
       "      <td>coupé</td>\n",
       "      <td>2011</td>\n",
       "      <td>manuell</td>\n",
       "      <td>190</td>\n",
       "      <td>NaN</td>\n",
       "      <td>125000</td>\n",
       "      <td>5</td>\n",
       "      <td>diesel</td>\n",
       "      <td>audi</td>\n",
       "      <td>ja</td>\n",
       "      <td>2016-03-24</td>\n",
       "      <td>66954</td>\n",
       "      <td>2016-04-07</td>\n",
       "    </tr>\n",
       "    <tr>\n",
       "      <th>1</th>\n",
       "      <td>2016-03-14</td>\n",
       "      <td>Jeep_Grand_Cherokee_\"Overland\"</td>\n",
       "      <td>9800</td>\n",
       "      <td>NaN</td>\n",
       "      <td>2004</td>\n",
       "      <td>automatik</td>\n",
       "      <td>163</td>\n",
       "      <td>grand</td>\n",
       "      <td>125000</td>\n",
       "      <td>8</td>\n",
       "      <td>diesel</td>\n",
       "      <td>jeep</td>\n",
       "      <td>NaN</td>\n",
       "      <td>2016-03-14</td>\n",
       "      <td>90480</td>\n",
       "      <td>2016-04-05</td>\n",
       "    </tr>\n",
       "    <tr>\n",
       "      <th>2</th>\n",
       "      <td>2016-03-17</td>\n",
       "      <td>GOLF_4_1_4__3TÜRER</td>\n",
       "      <td>1500</td>\n",
       "      <td>small car</td>\n",
       "      <td>2001</td>\n",
       "      <td>manuell</td>\n",
       "      <td>75</td>\n",
       "      <td>golf</td>\n",
       "      <td>150000</td>\n",
       "      <td>6</td>\n",
       "      <td>gasoline</td>\n",
       "      <td>volkswagen</td>\n",
       "      <td>nein</td>\n",
       "      <td>2016-03-17</td>\n",
       "      <td>91074</td>\n",
       "      <td>2016-03-17</td>\n",
       "    </tr>\n",
       "    <tr>\n",
       "      <th>3</th>\n",
       "      <td>2016-03-31</td>\n",
       "      <td>Skoda_Fabia_1.4_TDI_PD_Classic</td>\n",
       "      <td>3600</td>\n",
       "      <td>small car</td>\n",
       "      <td>2008</td>\n",
       "      <td>manuell</td>\n",
       "      <td>69</td>\n",
       "      <td>fabia</td>\n",
       "      <td>90000</td>\n",
       "      <td>7</td>\n",
       "      <td>diesel</td>\n",
       "      <td>skoda</td>\n",
       "      <td>nein</td>\n",
       "      <td>2016-03-31</td>\n",
       "      <td>60437</td>\n",
       "      <td>2016-04-06</td>\n",
       "    </tr>\n",
       "    <tr>\n",
       "      <th>4</th>\n",
       "      <td>2016-04-04</td>\n",
       "      <td>BMW_316i___e36_Limousine___Bastlerfahrzeug__Ex...</td>\n",
       "      <td>650</td>\n",
       "      <td>limousine</td>\n",
       "      <td>1995</td>\n",
       "      <td>manuell</td>\n",
       "      <td>102</td>\n",
       "      <td>3er</td>\n",
       "      <td>150000</td>\n",
       "      <td>10</td>\n",
       "      <td>gasoline</td>\n",
       "      <td>bmw</td>\n",
       "      <td>ja</td>\n",
       "      <td>2016-04-04</td>\n",
       "      <td>33775</td>\n",
       "      <td>2016-04-06</td>\n",
       "    </tr>\n",
       "    <tr>\n",
       "      <th>...</th>\n",
       "      <td>...</td>\n",
       "      <td>...</td>\n",
       "      <td>...</td>\n",
       "      <td>...</td>\n",
       "      <td>...</td>\n",
       "      <td>...</td>\n",
       "      <td>...</td>\n",
       "      <td>...</td>\n",
       "      <td>...</td>\n",
       "      <td>...</td>\n",
       "      <td>...</td>\n",
       "      <td>...</td>\n",
       "      <td>...</td>\n",
       "      <td>...</td>\n",
       "      <td>...</td>\n",
       "      <td>...</td>\n",
       "    </tr>\n",
       "    <tr>\n",
       "      <th>335106</th>\n",
       "      <td>2016-03-14</td>\n",
       "      <td>Suche_t4___vito_ab_6_sitze</td>\n",
       "      <td>2200</td>\n",
       "      <td>NaN</td>\n",
       "      <td>2005</td>\n",
       "      <td>NaN</td>\n",
       "      <td>0</td>\n",
       "      <td>NaN</td>\n",
       "      <td>20000</td>\n",
       "      <td>1</td>\n",
       "      <td>NaN</td>\n",
       "      <td>sonstige_autos</td>\n",
       "      <td>NaN</td>\n",
       "      <td>2016-03-14</td>\n",
       "      <td>39576</td>\n",
       "      <td>2016-04-06</td>\n",
       "    </tr>\n",
       "    <tr>\n",
       "      <th>335107</th>\n",
       "      <td>2016-03-05</td>\n",
       "      <td>Smart_smart_leistungssteigerung_100ps</td>\n",
       "      <td>1199</td>\n",
       "      <td>convertible</td>\n",
       "      <td>2000</td>\n",
       "      <td>automatik</td>\n",
       "      <td>101</td>\n",
       "      <td>fortwo</td>\n",
       "      <td>125000</td>\n",
       "      <td>3</td>\n",
       "      <td>gasoline</td>\n",
       "      <td>smart</td>\n",
       "      <td>nein</td>\n",
       "      <td>2016-03-05</td>\n",
       "      <td>26135</td>\n",
       "      <td>2016-03-11</td>\n",
       "    </tr>\n",
       "    <tr>\n",
       "      <th>335108</th>\n",
       "      <td>2016-03-19</td>\n",
       "      <td>Volkswagen_Multivan_T4_TDI_7DC_UY2</td>\n",
       "      <td>9200</td>\n",
       "      <td>bus</td>\n",
       "      <td>1996</td>\n",
       "      <td>manuell</td>\n",
       "      <td>102</td>\n",
       "      <td>transporter</td>\n",
       "      <td>150000</td>\n",
       "      <td>3</td>\n",
       "      <td>diesel</td>\n",
       "      <td>volkswagen</td>\n",
       "      <td>nein</td>\n",
       "      <td>2016-03-19</td>\n",
       "      <td>87439</td>\n",
       "      <td>2016-04-07</td>\n",
       "    </tr>\n",
       "    <tr>\n",
       "      <th>335109</th>\n",
       "      <td>2016-03-20</td>\n",
       "      <td>VW_Golf_Kombi_1_9l_TDI</td>\n",
       "      <td>3400</td>\n",
       "      <td>station wagon</td>\n",
       "      <td>2002</td>\n",
       "      <td>manuell</td>\n",
       "      <td>100</td>\n",
       "      <td>golf</td>\n",
       "      <td>150000</td>\n",
       "      <td>6</td>\n",
       "      <td>diesel</td>\n",
       "      <td>volkswagen</td>\n",
       "      <td>NaN</td>\n",
       "      <td>2016-03-20</td>\n",
       "      <td>40764</td>\n",
       "      <td>2016-03-24</td>\n",
       "    </tr>\n",
       "    <tr>\n",
       "      <th>335110</th>\n",
       "      <td>2016-03-07</td>\n",
       "      <td>BMW_M135i_vollausgestattet_NP_52.720____Euro</td>\n",
       "      <td>28990</td>\n",
       "      <td>limousine</td>\n",
       "      <td>2013</td>\n",
       "      <td>manuell</td>\n",
       "      <td>320</td>\n",
       "      <td>m_reihe</td>\n",
       "      <td>50000</td>\n",
       "      <td>8</td>\n",
       "      <td>gasoline</td>\n",
       "      <td>bmw</td>\n",
       "      <td>nein</td>\n",
       "      <td>2016-03-07</td>\n",
       "      <td>73326</td>\n",
       "      <td>2016-03-22</td>\n",
       "    </tr>\n",
       "  </tbody>\n",
       "</table>\n",
       "<p>335111 rows × 16 columns</p>\n",
       "</div>"
      ],
      "text/plain": [
       "       date_crawled                                               name  \\\n",
       "0        2016-03-24                               A5_Sportback_2.7_Tdi   \n",
       "1        2016-03-14                     Jeep_Grand_Cherokee_\"Overland\"   \n",
       "2        2016-03-17                                 GOLF_4_1_4__3TÜRER   \n",
       "3        2016-03-31                     Skoda_Fabia_1.4_TDI_PD_Classic   \n",
       "4        2016-04-04  BMW_316i___e36_Limousine___Bastlerfahrzeug__Ex...   \n",
       "...             ...                                                ...   \n",
       "335106   2016-03-14                         Suche_t4___vito_ab_6_sitze   \n",
       "335107   2016-03-05              Smart_smart_leistungssteigerung_100ps   \n",
       "335108   2016-03-19                 Volkswagen_Multivan_T4_TDI_7DC_UY2   \n",
       "335109   2016-03-20                             VW_Golf_Kombi_1_9l_TDI   \n",
       "335110   2016-03-07       BMW_M135i_vollausgestattet_NP_52.720____Euro   \n",
       "\n",
       "        dollar_price   vehicle_type  registration_year    gearbox  power_ps  \\\n",
       "0              18300          coupé               2011    manuell       190   \n",
       "1               9800            NaN               2004  automatik       163   \n",
       "2               1500      small car               2001    manuell        75   \n",
       "3               3600      small car               2008    manuell        69   \n",
       "4                650      limousine               1995    manuell       102   \n",
       "...              ...            ...                ...        ...       ...   \n",
       "335106          2200            NaN               2005        NaN         0   \n",
       "335107          1199    convertible               2000  automatik       101   \n",
       "335108          9200            bus               1996    manuell       102   \n",
       "335109          3400  station wagon               2002    manuell       100   \n",
       "335110         28990      limousine               2013    manuell       320   \n",
       "\n",
       "              model  kilometer  registration_month fuel_type           brand  \\\n",
       "0               NaN     125000                   5    diesel            audi   \n",
       "1             grand     125000                   8    diesel            jeep   \n",
       "2              golf     150000                   6  gasoline      volkswagen   \n",
       "3             fabia      90000                   7    diesel           skoda   \n",
       "4               3er     150000                  10  gasoline             bmw   \n",
       "...             ...        ...                 ...       ...             ...   \n",
       "335106          NaN      20000                   1       NaN  sonstige_autos   \n",
       "335107       fortwo     125000                   3  gasoline           smart   \n",
       "335108  transporter     150000                   3    diesel      volkswagen   \n",
       "335109         golf     150000                   6    diesel      volkswagen   \n",
       "335110      m_reihe      50000                   8  gasoline             bmw   \n",
       "\n",
       "       unrepaired_damage  ad_created  postal_code last_seen_online  \n",
       "0                     ja  2016-03-24        66954       2016-04-07  \n",
       "1                    NaN  2016-03-14        90480       2016-04-05  \n",
       "2                   nein  2016-03-17        91074       2016-03-17  \n",
       "3                   nein  2016-03-31        60437       2016-04-06  \n",
       "4                     ja  2016-04-04        33775       2016-04-06  \n",
       "...                  ...         ...          ...              ...  \n",
       "335106               NaN  2016-03-14        39576       2016-04-06  \n",
       "335107              nein  2016-03-05        26135       2016-03-11  \n",
       "335108              nein  2016-03-19        87439       2016-04-07  \n",
       "335109               NaN  2016-03-20        40764       2016-03-24  \n",
       "335110              nein  2016-03-07        73326       2016-03-22  \n",
       "\n",
       "[335111 rows x 16 columns]"
      ]
     },
     "execution_count": 2,
     "metadata": {},
     "output_type": "execute_result"
    }
   ],
   "source": [
    "df = pd.read_csv('autos_new.csv')\n",
    "# df.head(n=10)\n",
    "df"
   ]
  },
  {
   "cell_type": "markdown",
   "id": "206786a4",
   "metadata": {},
   "source": [
    "## Data Preprocessing"
   ]
  },
  {
   "cell_type": "code",
   "execution_count": 3,
   "id": "1742530f",
   "metadata": {
    "colab": {
     "base_uri": "https://localhost:8080/"
    },
    "executionInfo": {
     "elapsed": 7,
     "status": "ok",
     "timestamp": 1642511279616,
     "user": {
      "displayName": "Divyansh Raghuwanshi",
      "photoUrl": "https://lh3.googleusercontent.com/a/default-user=s64",
      "userId": "09313975529274446593"
     },
     "user_tz": -330
    },
    "id": "1742530f",
    "outputId": "1d4efb70-0038-42c6-b796-230bc93656b9"
   },
   "outputs": [
    {
     "name": "stdout",
     "output_type": "stream",
     "text": [
      "<class 'pandas.core.indexes.base.Index'>\n"
     ]
    }
   ],
   "source": [
    "col=df.columns\n",
    "print(type(col))"
   ]
  },
  {
   "cell_type": "code",
   "execution_count": 4,
   "id": "ccab06f8",
   "metadata": {
    "colab": {
     "base_uri": "https://localhost:8080/",
     "height": 268
    },
    "executionInfo": {
     "elapsed": 18,
     "status": "ok",
     "timestamp": 1642511280052,
     "user": {
      "displayName": "Divyansh Raghuwanshi",
      "photoUrl": "https://lh3.googleusercontent.com/a/default-user=s64",
      "userId": "09313975529274446593"
     },
     "user_tz": -330
    },
    "id": "ccab06f8",
    "outputId": "945faf14-b027-4e82-9f9f-9ef4fd74a212"
   },
   "outputs": [
    {
     "data": {
      "text/html": [
       "<div>\n",
       "<style scoped>\n",
       "    .dataframe tbody tr th:only-of-type {\n",
       "        vertical-align: middle;\n",
       "    }\n",
       "\n",
       "    .dataframe tbody tr th {\n",
       "        vertical-align: top;\n",
       "    }\n",
       "\n",
       "    .dataframe thead th {\n",
       "        text-align: right;\n",
       "    }\n",
       "</style>\n",
       "<table border=\"1\" class=\"dataframe\">\n",
       "  <thead>\n",
       "    <tr style=\"text-align: right;\">\n",
       "      <th></th>\n",
       "      <th>dollar_price</th>\n",
       "      <th>vehicle_type</th>\n",
       "      <th>registration_year</th>\n",
       "      <th>gearbox</th>\n",
       "      <th>power_ps</th>\n",
       "      <th>model</th>\n",
       "      <th>kilometer</th>\n",
       "      <th>registration_month</th>\n",
       "      <th>fuel_type</th>\n",
       "      <th>brand</th>\n",
       "      <th>unrepaired_damage</th>\n",
       "    </tr>\n",
       "  </thead>\n",
       "  <tbody>\n",
       "    <tr>\n",
       "      <th>0</th>\n",
       "      <td>18300</td>\n",
       "      <td>coupé</td>\n",
       "      <td>2011</td>\n",
       "      <td>manuell</td>\n",
       "      <td>190</td>\n",
       "      <td>NaN</td>\n",
       "      <td>125000</td>\n",
       "      <td>5</td>\n",
       "      <td>diesel</td>\n",
       "      <td>audi</td>\n",
       "      <td>ja</td>\n",
       "    </tr>\n",
       "    <tr>\n",
       "      <th>1</th>\n",
       "      <td>9800</td>\n",
       "      <td>NaN</td>\n",
       "      <td>2004</td>\n",
       "      <td>automatik</td>\n",
       "      <td>163</td>\n",
       "      <td>grand</td>\n",
       "      <td>125000</td>\n",
       "      <td>8</td>\n",
       "      <td>diesel</td>\n",
       "      <td>jeep</td>\n",
       "      <td>NaN</td>\n",
       "    </tr>\n",
       "    <tr>\n",
       "      <th>2</th>\n",
       "      <td>1500</td>\n",
       "      <td>small car</td>\n",
       "      <td>2001</td>\n",
       "      <td>manuell</td>\n",
       "      <td>75</td>\n",
       "      <td>golf</td>\n",
       "      <td>150000</td>\n",
       "      <td>6</td>\n",
       "      <td>gasoline</td>\n",
       "      <td>volkswagen</td>\n",
       "      <td>nein</td>\n",
       "    </tr>\n",
       "    <tr>\n",
       "      <th>3</th>\n",
       "      <td>3600</td>\n",
       "      <td>small car</td>\n",
       "      <td>2008</td>\n",
       "      <td>manuell</td>\n",
       "      <td>69</td>\n",
       "      <td>fabia</td>\n",
       "      <td>90000</td>\n",
       "      <td>7</td>\n",
       "      <td>diesel</td>\n",
       "      <td>skoda</td>\n",
       "      <td>nein</td>\n",
       "    </tr>\n",
       "    <tr>\n",
       "      <th>4</th>\n",
       "      <td>650</td>\n",
       "      <td>limousine</td>\n",
       "      <td>1995</td>\n",
       "      <td>manuell</td>\n",
       "      <td>102</td>\n",
       "      <td>3er</td>\n",
       "      <td>150000</td>\n",
       "      <td>10</td>\n",
       "      <td>gasoline</td>\n",
       "      <td>bmw</td>\n",
       "      <td>ja</td>\n",
       "    </tr>\n",
       "  </tbody>\n",
       "</table>\n",
       "</div>"
      ],
      "text/plain": [
       "   dollar_price vehicle_type  registration_year    gearbox  power_ps  model  \\\n",
       "0         18300        coupé               2011    manuell       190    NaN   \n",
       "1          9800          NaN               2004  automatik       163  grand   \n",
       "2          1500    small car               2001    manuell        75   golf   \n",
       "3          3600    small car               2008    manuell        69  fabia   \n",
       "4           650    limousine               1995    manuell       102    3er   \n",
       "\n",
       "   kilometer  registration_month fuel_type       brand unrepaired_damage  \n",
       "0     125000                   5    diesel        audi                ja  \n",
       "1     125000                   8    diesel        jeep               NaN  \n",
       "2     150000                   6  gasoline  volkswagen              nein  \n",
       "3      90000                   7    diesel       skoda              nein  \n",
       "4     150000                  10  gasoline         bmw                ja  "
      ]
     },
     "execution_count": 4,
     "metadata": {},
     "output_type": "execute_result"
    }
   ],
   "source": [
    "# drop_col=['date_crawled','name']\n",
    "df.drop(['date_crawled','name','ad_created','last_seen_online','postal_code',],axis=1,inplace=True)\n",
    "df.head()"
   ]
  },
  {
   "cell_type": "code",
   "execution_count": 5,
   "id": "371f900e",
   "metadata": {
    "colab": {
     "base_uri": "https://localhost:8080/",
     "height": 297
    },
    "executionInfo": {
     "elapsed": 416,
     "status": "ok",
     "timestamp": 1642511281951,
     "user": {
      "displayName": "Divyansh Raghuwanshi",
      "photoUrl": "https://lh3.googleusercontent.com/a/default-user=s64",
      "userId": "09313975529274446593"
     },
     "user_tz": -330
    },
    "id": "371f900e",
    "outputId": "2a27d88b-d73b-4710-aa68-47479d96992f"
   },
   "outputs": [
    {
     "data": {
      "text/html": [
       "<div>\n",
       "<style scoped>\n",
       "    .dataframe tbody tr th:only-of-type {\n",
       "        vertical-align: middle;\n",
       "    }\n",
       "\n",
       "    .dataframe tbody tr th {\n",
       "        vertical-align: top;\n",
       "    }\n",
       "\n",
       "    .dataframe thead th {\n",
       "        text-align: right;\n",
       "    }\n",
       "</style>\n",
       "<table border=\"1\" class=\"dataframe\">\n",
       "  <thead>\n",
       "    <tr style=\"text-align: right;\">\n",
       "      <th></th>\n",
       "      <th>dollar_price</th>\n",
       "      <th>registration_year</th>\n",
       "      <th>power_ps</th>\n",
       "      <th>kilometer</th>\n",
       "      <th>registration_month</th>\n",
       "    </tr>\n",
       "  </thead>\n",
       "  <tbody>\n",
       "    <tr>\n",
       "      <th>count</th>\n",
       "      <td>335111.000000</td>\n",
       "      <td>335111.000000</td>\n",
       "      <td>335111.000000</td>\n",
       "      <td>335111.000000</td>\n",
       "      <td>335111.000000</td>\n",
       "    </tr>\n",
       "    <tr>\n",
       "      <th>mean</th>\n",
       "      <td>6291.242606</td>\n",
       "      <td>2003.733148</td>\n",
       "      <td>120.694191</td>\n",
       "      <td>125235.354853</td>\n",
       "      <td>5.924986</td>\n",
       "    </tr>\n",
       "    <tr>\n",
       "      <th>std</th>\n",
       "      <td>8608.259613</td>\n",
       "      <td>7.272514</td>\n",
       "      <td>190.797297</td>\n",
       "      <td>39612.753443</td>\n",
       "      <td>3.631074</td>\n",
       "    </tr>\n",
       "    <tr>\n",
       "      <th>min</th>\n",
       "      <td>500.000000</td>\n",
       "      <td>1945.000000</td>\n",
       "      <td>0.000000</td>\n",
       "      <td>5000.000000</td>\n",
       "      <td>0.000000</td>\n",
       "    </tr>\n",
       "    <tr>\n",
       "      <th>25%</th>\n",
       "      <td>1500.000000</td>\n",
       "      <td>2000.000000</td>\n",
       "      <td>75.000000</td>\n",
       "      <td>100000.000000</td>\n",
       "      <td>3.000000</td>\n",
       "    </tr>\n",
       "    <tr>\n",
       "      <th>50%</th>\n",
       "      <td>3500.000000</td>\n",
       "      <td>2004.000000</td>\n",
       "      <td>110.000000</td>\n",
       "      <td>150000.000000</td>\n",
       "      <td>6.000000</td>\n",
       "    </tr>\n",
       "    <tr>\n",
       "      <th>75%</th>\n",
       "      <td>7900.000000</td>\n",
       "      <td>2008.000000</td>\n",
       "      <td>150.000000</td>\n",
       "      <td>150000.000000</td>\n",
       "      <td>9.000000</td>\n",
       "    </tr>\n",
       "    <tr>\n",
       "      <th>max</th>\n",
       "      <td>245000.000000</td>\n",
       "      <td>2016.000000</td>\n",
       "      <td>20000.000000</td>\n",
       "      <td>150000.000000</td>\n",
       "      <td>12.000000</td>\n",
       "    </tr>\n",
       "  </tbody>\n",
       "</table>\n",
       "</div>"
      ],
      "text/plain": [
       "        dollar_price  registration_year       power_ps      kilometer  \\\n",
       "count  335111.000000      335111.000000  335111.000000  335111.000000   \n",
       "mean     6291.242606        2003.733148     120.694191  125235.354853   \n",
       "std      8608.259613           7.272514     190.797297   39612.753443   \n",
       "min       500.000000        1945.000000       0.000000    5000.000000   \n",
       "25%      1500.000000        2000.000000      75.000000  100000.000000   \n",
       "50%      3500.000000        2004.000000     110.000000  150000.000000   \n",
       "75%      7900.000000        2008.000000     150.000000  150000.000000   \n",
       "max    245000.000000        2016.000000   20000.000000  150000.000000   \n",
       "\n",
       "       registration_month  \n",
       "count       335111.000000  \n",
       "mean             5.924986  \n",
       "std              3.631074  \n",
       "min              0.000000  \n",
       "25%              3.000000  \n",
       "50%              6.000000  \n",
       "75%              9.000000  \n",
       "max             12.000000  "
      ]
     },
     "execution_count": 5,
     "metadata": {},
     "output_type": "execute_result"
    }
   ],
   "source": [
    "df.describe()"
   ]
  },
  {
   "cell_type": "code",
   "execution_count": 6,
   "id": "e8d68ca9",
   "metadata": {
    "id": "e8d68ca9"
   },
   "outputs": [],
   "source": [
    "data=np.array(df)"
   ]
  },
  {
   "cell_type": "code",
   "execution_count": 7,
   "id": "ba4fd3c5",
   "metadata": {
    "id": "ba4fd3c5"
   },
   "outputs": [],
   "source": [
    "df.dropna(inplace=True)\n"
   ]
  },
  {
   "cell_type": "code",
   "execution_count": 8,
   "id": "8efd66f7",
   "metadata": {
    "colab": {
     "base_uri": "https://localhost:8080/"
    },
    "executionInfo": {
     "elapsed": 5,
     "status": "ok",
     "timestamp": 1642511285437,
     "user": {
      "displayName": "Divyansh Raghuwanshi",
      "photoUrl": "https://lh3.googleusercontent.com/a/default-user=s64",
      "userId": "09313975529274446593"
     },
     "user_tz": -330
    },
    "id": "8efd66f7",
    "outputId": "f4dd6fb8-26a3-4090-d962-483e8ada1258"
   },
   "outputs": [
    {
     "name": "stdout",
     "output_type": "stream",
     "text": [
      "<class 'pandas.core.frame.DataFrame'>\n",
      "Int64Index: 235829 entries, 2 to 335110\n",
      "Data columns (total 11 columns):\n",
      " #   Column              Non-Null Count   Dtype \n",
      "---  ------              --------------   ----- \n",
      " 0   dollar_price        235829 non-null  int64 \n",
      " 1   vehicle_type        235829 non-null  object\n",
      " 2   registration_year   235829 non-null  int64 \n",
      " 3   gearbox             235829 non-null  object\n",
      " 4   power_ps            235829 non-null  int64 \n",
      " 5   model               235829 non-null  object\n",
      " 6   kilometer           235829 non-null  int64 \n",
      " 7   registration_month  235829 non-null  int64 \n",
      " 8   fuel_type           235829 non-null  object\n",
      " 9   brand               235829 non-null  object\n",
      " 10  unrepaired_damage   235829 non-null  object\n",
      "dtypes: int64(5), object(6)\n",
      "memory usage: 21.6+ MB\n"
     ]
    }
   ],
   "source": [
    "df.info()"
   ]
  },
  {
   "cell_type": "code",
   "execution_count": 9,
   "id": "9f0d0744",
   "metadata": {
    "id": "9f0d0744"
   },
   "outputs": [],
   "source": [
    "df.to_csv(\"autos_modified.csv\")"
   ]
  },
  {
   "cell_type": "code",
   "execution_count": 10,
   "id": "3105817a",
   "metadata": {
    "colab": {
     "base_uri": "https://localhost:8080/",
     "height": 578
    },
    "executionInfo": {
     "elapsed": 13,
     "status": "ok",
     "timestamp": 1642511288841,
     "user": {
      "displayName": "Divyansh Raghuwanshi",
      "photoUrl": "https://lh3.googleusercontent.com/a/default-user=s64",
      "userId": "09313975529274446593"
     },
     "user_tz": -330
    },
    "id": "3105817a",
    "outputId": "61434449-abff-4109-ad9d-64215058d719",
    "scrolled": true
   },
   "outputs": [
    {
     "data": {
      "text/html": [
       "<div>\n",
       "<style scoped>\n",
       "    .dataframe tbody tr th:only-of-type {\n",
       "        vertical-align: middle;\n",
       "    }\n",
       "\n",
       "    .dataframe tbody tr th {\n",
       "        vertical-align: top;\n",
       "    }\n",
       "\n",
       "    .dataframe thead th {\n",
       "        text-align: right;\n",
       "    }\n",
       "</style>\n",
       "<table border=\"1\" class=\"dataframe\">\n",
       "  <thead>\n",
       "    <tr style=\"text-align: right;\">\n",
       "      <th></th>\n",
       "      <th>dollar_price</th>\n",
       "      <th>vehicle_type</th>\n",
       "      <th>registration_year</th>\n",
       "      <th>gearbox</th>\n",
       "      <th>power_ps</th>\n",
       "      <th>model</th>\n",
       "      <th>kilometer</th>\n",
       "      <th>registration_month</th>\n",
       "      <th>fuel_type</th>\n",
       "      <th>brand</th>\n",
       "      <th>unrepaired_damage</th>\n",
       "    </tr>\n",
       "  </thead>\n",
       "  <tbody>\n",
       "    <tr>\n",
       "      <th>0</th>\n",
       "      <td>1500</td>\n",
       "      <td>small car</td>\n",
       "      <td>2001</td>\n",
       "      <td>manuell</td>\n",
       "      <td>75</td>\n",
       "      <td>golf</td>\n",
       "      <td>150000</td>\n",
       "      <td>6</td>\n",
       "      <td>gasoline</td>\n",
       "      <td>volkswagen</td>\n",
       "      <td>nein</td>\n",
       "    </tr>\n",
       "    <tr>\n",
       "      <th>1</th>\n",
       "      <td>3600</td>\n",
       "      <td>small car</td>\n",
       "      <td>2008</td>\n",
       "      <td>manuell</td>\n",
       "      <td>69</td>\n",
       "      <td>fabia</td>\n",
       "      <td>90000</td>\n",
       "      <td>7</td>\n",
       "      <td>diesel</td>\n",
       "      <td>skoda</td>\n",
       "      <td>nein</td>\n",
       "    </tr>\n",
       "    <tr>\n",
       "      <th>2</th>\n",
       "      <td>650</td>\n",
       "      <td>limousine</td>\n",
       "      <td>1995</td>\n",
       "      <td>manuell</td>\n",
       "      <td>102</td>\n",
       "      <td>3er</td>\n",
       "      <td>150000</td>\n",
       "      <td>10</td>\n",
       "      <td>gasoline</td>\n",
       "      <td>bmw</td>\n",
       "      <td>ja</td>\n",
       "    </tr>\n",
       "    <tr>\n",
       "      <th>3</th>\n",
       "      <td>2200</td>\n",
       "      <td>convertible</td>\n",
       "      <td>2004</td>\n",
       "      <td>manuell</td>\n",
       "      <td>109</td>\n",
       "      <td>2_reihe</td>\n",
       "      <td>150000</td>\n",
       "      <td>8</td>\n",
       "      <td>gasoline</td>\n",
       "      <td>peugeot</td>\n",
       "      <td>nein</td>\n",
       "    </tr>\n",
       "    <tr>\n",
       "      <th>4</th>\n",
       "      <td>2000</td>\n",
       "      <td>limousine</td>\n",
       "      <td>2004</td>\n",
       "      <td>manuell</td>\n",
       "      <td>105</td>\n",
       "      <td>3_reihe</td>\n",
       "      <td>150000</td>\n",
       "      <td>12</td>\n",
       "      <td>gasoline</td>\n",
       "      <td>mazda</td>\n",
       "      <td>nein</td>\n",
       "    </tr>\n",
       "    <tr>\n",
       "      <th>5</th>\n",
       "      <td>2799</td>\n",
       "      <td>station wagon</td>\n",
       "      <td>2005</td>\n",
       "      <td>manuell</td>\n",
       "      <td>140</td>\n",
       "      <td>passat</td>\n",
       "      <td>150000</td>\n",
       "      <td>12</td>\n",
       "      <td>diesel</td>\n",
       "      <td>volkswagen</td>\n",
       "      <td>ja</td>\n",
       "    </tr>\n",
       "    <tr>\n",
       "      <th>6</th>\n",
       "      <td>1750</td>\n",
       "      <td>small car</td>\n",
       "      <td>2004</td>\n",
       "      <td>automatik</td>\n",
       "      <td>75</td>\n",
       "      <td>twingo</td>\n",
       "      <td>150000</td>\n",
       "      <td>2</td>\n",
       "      <td>gasoline</td>\n",
       "      <td>renault</td>\n",
       "      <td>nein</td>\n",
       "    </tr>\n",
       "    <tr>\n",
       "      <th>7</th>\n",
       "      <td>7550</td>\n",
       "      <td>bus</td>\n",
       "      <td>2007</td>\n",
       "      <td>manuell</td>\n",
       "      <td>136</td>\n",
       "      <td>c_max</td>\n",
       "      <td>150000</td>\n",
       "      <td>6</td>\n",
       "      <td>diesel</td>\n",
       "      <td>ford</td>\n",
       "      <td>nein</td>\n",
       "    </tr>\n",
       "    <tr>\n",
       "      <th>8</th>\n",
       "      <td>1850</td>\n",
       "      <td>bus</td>\n",
       "      <td>2004</td>\n",
       "      <td>manuell</td>\n",
       "      <td>102</td>\n",
       "      <td>a_klasse</td>\n",
       "      <td>150000</td>\n",
       "      <td>1</td>\n",
       "      <td>gasoline</td>\n",
       "      <td>mercedes_benz</td>\n",
       "      <td>nein</td>\n",
       "    </tr>\n",
       "    <tr>\n",
       "      <th>9</th>\n",
       "      <td>10400</td>\n",
       "      <td>coupé</td>\n",
       "      <td>2009</td>\n",
       "      <td>manuell</td>\n",
       "      <td>160</td>\n",
       "      <td>scirocco</td>\n",
       "      <td>100000</td>\n",
       "      <td>4</td>\n",
       "      <td>gasoline</td>\n",
       "      <td>volkswagen</td>\n",
       "      <td>nein</td>\n",
       "    </tr>\n",
       "    <tr>\n",
       "      <th>10</th>\n",
       "      <td>3699</td>\n",
       "      <td>limousine</td>\n",
       "      <td>2002</td>\n",
       "      <td>automatik</td>\n",
       "      <td>231</td>\n",
       "      <td>5er</td>\n",
       "      <td>150000</td>\n",
       "      <td>7</td>\n",
       "      <td>gasoline</td>\n",
       "      <td>bmw</td>\n",
       "      <td>nein</td>\n",
       "    </tr>\n",
       "    <tr>\n",
       "      <th>11</th>\n",
       "      <td>500</td>\n",
       "      <td>limousine</td>\n",
       "      <td>1990</td>\n",
       "      <td>manuell</td>\n",
       "      <td>118</td>\n",
       "      <td>andere</td>\n",
       "      <td>150000</td>\n",
       "      <td>10</td>\n",
       "      <td>gasoline</td>\n",
       "      <td>mercedes_benz</td>\n",
       "      <td>ja</td>\n",
       "    </tr>\n",
       "    <tr>\n",
       "      <th>12</th>\n",
       "      <td>2500</td>\n",
       "      <td>station wagon</td>\n",
       "      <td>2002</td>\n",
       "      <td>automatik</td>\n",
       "      <td>193</td>\n",
       "      <td>5er</td>\n",
       "      <td>150000</td>\n",
       "      <td>9</td>\n",
       "      <td>diesel</td>\n",
       "      <td>bmw</td>\n",
       "      <td>ja</td>\n",
       "    </tr>\n",
       "    <tr>\n",
       "      <th>13</th>\n",
       "      <td>6900</td>\n",
       "      <td>limousine</td>\n",
       "      <td>2008</td>\n",
       "      <td>manuell</td>\n",
       "      <td>99</td>\n",
       "      <td>civic</td>\n",
       "      <td>60000</td>\n",
       "      <td>11</td>\n",
       "      <td>gasoline</td>\n",
       "      <td>honda</td>\n",
       "      <td>nein</td>\n",
       "    </tr>\n",
       "    <tr>\n",
       "      <th>14</th>\n",
       "      <td>1990</td>\n",
       "      <td>bus</td>\n",
       "      <td>1981</td>\n",
       "      <td>manuell</td>\n",
       "      <td>50</td>\n",
       "      <td>transporter</td>\n",
       "      <td>5000</td>\n",
       "      <td>1</td>\n",
       "      <td>gasoline</td>\n",
       "      <td>volkswagen</td>\n",
       "      <td>nein</td>\n",
       "    </tr>\n",
       "  </tbody>\n",
       "</table>\n",
       "</div>"
      ],
      "text/plain": [
       "    dollar_price   vehicle_type  registration_year    gearbox  power_ps  \\\n",
       "0           1500      small car               2001    manuell        75   \n",
       "1           3600      small car               2008    manuell        69   \n",
       "2            650      limousine               1995    manuell       102   \n",
       "3           2200    convertible               2004    manuell       109   \n",
       "4           2000      limousine               2004    manuell       105   \n",
       "5           2799  station wagon               2005    manuell       140   \n",
       "6           1750      small car               2004  automatik        75   \n",
       "7           7550            bus               2007    manuell       136   \n",
       "8           1850            bus               2004    manuell       102   \n",
       "9          10400          coupé               2009    manuell       160   \n",
       "10          3699      limousine               2002  automatik       231   \n",
       "11           500      limousine               1990    manuell       118   \n",
       "12          2500  station wagon               2002  automatik       193   \n",
       "13          6900      limousine               2008    manuell        99   \n",
       "14          1990            bus               1981    manuell        50   \n",
       "\n",
       "          model  kilometer  registration_month fuel_type          brand  \\\n",
       "0          golf     150000                   6  gasoline     volkswagen   \n",
       "1         fabia      90000                   7    diesel          skoda   \n",
       "2           3er     150000                  10  gasoline            bmw   \n",
       "3       2_reihe     150000                   8  gasoline        peugeot   \n",
       "4       3_reihe     150000                  12  gasoline          mazda   \n",
       "5        passat     150000                  12    diesel     volkswagen   \n",
       "6        twingo     150000                   2  gasoline        renault   \n",
       "7         c_max     150000                   6    diesel           ford   \n",
       "8      a_klasse     150000                   1  gasoline  mercedes_benz   \n",
       "9      scirocco     100000                   4  gasoline     volkswagen   \n",
       "10          5er     150000                   7  gasoline            bmw   \n",
       "11       andere     150000                  10  gasoline  mercedes_benz   \n",
       "12          5er     150000                   9    diesel            bmw   \n",
       "13        civic      60000                  11  gasoline          honda   \n",
       "14  transporter       5000                   1  gasoline     volkswagen   \n",
       "\n",
       "   unrepaired_damage  \n",
       "0               nein  \n",
       "1               nein  \n",
       "2                 ja  \n",
       "3               nein  \n",
       "4               nein  \n",
       "5                 ja  \n",
       "6               nein  \n",
       "7               nein  \n",
       "8               nein  \n",
       "9               nein  \n",
       "10              nein  \n",
       "11                ja  \n",
       "12                ja  \n",
       "13              nein  \n",
       "14              nein  "
      ]
     },
     "execution_count": 10,
     "metadata": {},
     "output_type": "execute_result"
    }
   ],
   "source": [
    "df.reset_index(drop=True,inplace=True)\n",
    "df.head(n=15)\n",
    "# print(type(ds))"
   ]
  },
  {
   "cell_type": "code",
   "execution_count": 11,
   "id": "gVKyH9jtD-Ll",
   "metadata": {
    "colab": {
     "base_uri": "https://localhost:8080/"
    },
    "executionInfo": {
     "elapsed": 4,
     "status": "ok",
     "timestamp": 1642511290869,
     "user": {
      "displayName": "Divyansh Raghuwanshi",
      "photoUrl": "https://lh3.googleusercontent.com/a/default-user=s64",
      "userId": "09313975529274446593"
     },
     "user_tz": -330
    },
    "id": "gVKyH9jtD-Ll",
    "outputId": "c3f1c2aa-c0b4-4419-aa7e-110b5739fd18"
   },
   "outputs": [
    {
     "data": {
      "text/plain": [
       "5"
      ]
     },
     "execution_count": 11,
     "metadata": {},
     "output_type": "execute_result"
    }
   ],
   "source": [
    "len(pd.unique(df['fuel_type']))"
   ]
  },
  {
   "cell_type": "code",
   "execution_count": 12,
   "id": "LrDpgY4iO7B-",
   "metadata": {
    "colab": {
     "base_uri": "https://localhost:8080/",
     "height": 483
    },
    "executionInfo": {
     "elapsed": 18,
     "status": "ok",
     "timestamp": 1642511291360,
     "user": {
      "displayName": "Divyansh Raghuwanshi",
      "photoUrl": "https://lh3.googleusercontent.com/a/default-user=s64",
      "userId": "09313975529274446593"
     },
     "user_tz": -330
    },
    "id": "LrDpgY4iO7B-",
    "outputId": "4eb239bd-e81a-45e1-f7d3-8ce0bd692e36"
   },
   "outputs": [
    {
     "data": {
      "text/html": [
       "<div>\n",
       "<style scoped>\n",
       "    .dataframe tbody tr th:only-of-type {\n",
       "        vertical-align: middle;\n",
       "    }\n",
       "\n",
       "    .dataframe tbody tr th {\n",
       "        vertical-align: top;\n",
       "    }\n",
       "\n",
       "    .dataframe thead th {\n",
       "        text-align: right;\n",
       "    }\n",
       "</style>\n",
       "<table border=\"1\" class=\"dataframe\">\n",
       "  <thead>\n",
       "    <tr style=\"text-align: right;\">\n",
       "      <th></th>\n",
       "      <th>dollar_price</th>\n",
       "      <th>vehicle_type</th>\n",
       "      <th>registration_year</th>\n",
       "      <th>gearbox</th>\n",
       "      <th>power_ps</th>\n",
       "      <th>model</th>\n",
       "      <th>kilometer</th>\n",
       "      <th>registration_month</th>\n",
       "      <th>fuel_type</th>\n",
       "      <th>brand</th>\n",
       "      <th>unrepaired_damage</th>\n",
       "    </tr>\n",
       "  </thead>\n",
       "  <tbody>\n",
       "    <tr>\n",
       "      <th>0</th>\n",
       "      <td>1500</td>\n",
       "      <td>small car</td>\n",
       "      <td>0.782609</td>\n",
       "      <td>manuell</td>\n",
       "      <td>0.00375</td>\n",
       "      <td>golf</td>\n",
       "      <td>1.000000</td>\n",
       "      <td>0.500000</td>\n",
       "      <td>gasoline</td>\n",
       "      <td>volkswagen</td>\n",
       "      <td>nein</td>\n",
       "    </tr>\n",
       "    <tr>\n",
       "      <th>1</th>\n",
       "      <td>3600</td>\n",
       "      <td>small car</td>\n",
       "      <td>0.884058</td>\n",
       "      <td>manuell</td>\n",
       "      <td>0.00345</td>\n",
       "      <td>fabia</td>\n",
       "      <td>0.586207</td>\n",
       "      <td>0.583333</td>\n",
       "      <td>diesel</td>\n",
       "      <td>skoda</td>\n",
       "      <td>nein</td>\n",
       "    </tr>\n",
       "    <tr>\n",
       "      <th>2</th>\n",
       "      <td>650</td>\n",
       "      <td>limousine</td>\n",
       "      <td>0.695652</td>\n",
       "      <td>manuell</td>\n",
       "      <td>0.00510</td>\n",
       "      <td>3er</td>\n",
       "      <td>1.000000</td>\n",
       "      <td>0.833333</td>\n",
       "      <td>gasoline</td>\n",
       "      <td>bmw</td>\n",
       "      <td>ja</td>\n",
       "    </tr>\n",
       "    <tr>\n",
       "      <th>3</th>\n",
       "      <td>2200</td>\n",
       "      <td>convertible</td>\n",
       "      <td>0.826087</td>\n",
       "      <td>manuell</td>\n",
       "      <td>0.00545</td>\n",
       "      <td>2_reihe</td>\n",
       "      <td>1.000000</td>\n",
       "      <td>0.666667</td>\n",
       "      <td>gasoline</td>\n",
       "      <td>peugeot</td>\n",
       "      <td>nein</td>\n",
       "    </tr>\n",
       "    <tr>\n",
       "      <th>4</th>\n",
       "      <td>2000</td>\n",
       "      <td>limousine</td>\n",
       "      <td>0.826087</td>\n",
       "      <td>manuell</td>\n",
       "      <td>0.00525</td>\n",
       "      <td>3_reihe</td>\n",
       "      <td>1.000000</td>\n",
       "      <td>1.000000</td>\n",
       "      <td>gasoline</td>\n",
       "      <td>mazda</td>\n",
       "      <td>nein</td>\n",
       "    </tr>\n",
       "    <tr>\n",
       "      <th>...</th>\n",
       "      <td>...</td>\n",
       "      <td>...</td>\n",
       "      <td>...</td>\n",
       "      <td>...</td>\n",
       "      <td>...</td>\n",
       "      <td>...</td>\n",
       "      <td>...</td>\n",
       "      <td>...</td>\n",
       "      <td>...</td>\n",
       "      <td>...</td>\n",
       "      <td>...</td>\n",
       "    </tr>\n",
       "    <tr>\n",
       "      <th>235824</th>\n",
       "      <td>3200</td>\n",
       "      <td>limousine</td>\n",
       "      <td>0.826087</td>\n",
       "      <td>manuell</td>\n",
       "      <td>0.01125</td>\n",
       "      <td>leon</td>\n",
       "      <td>1.000000</td>\n",
       "      <td>0.416667</td>\n",
       "      <td>gasoline</td>\n",
       "      <td>seat</td>\n",
       "      <td>ja</td>\n",
       "    </tr>\n",
       "    <tr>\n",
       "      <th>235825</th>\n",
       "      <td>1150</td>\n",
       "      <td>bus</td>\n",
       "      <td>0.768116</td>\n",
       "      <td>manuell</td>\n",
       "      <td>0.00000</td>\n",
       "      <td>zafira</td>\n",
       "      <td>1.000000</td>\n",
       "      <td>0.250000</td>\n",
       "      <td>gasoline</td>\n",
       "      <td>opel</td>\n",
       "      <td>nein</td>\n",
       "    </tr>\n",
       "    <tr>\n",
       "      <th>235826</th>\n",
       "      <td>1199</td>\n",
       "      <td>convertible</td>\n",
       "      <td>0.768116</td>\n",
       "      <td>automatik</td>\n",
       "      <td>0.00505</td>\n",
       "      <td>fortwo</td>\n",
       "      <td>0.827586</td>\n",
       "      <td>0.250000</td>\n",
       "      <td>gasoline</td>\n",
       "      <td>smart</td>\n",
       "      <td>nein</td>\n",
       "    </tr>\n",
       "    <tr>\n",
       "      <th>235827</th>\n",
       "      <td>9200</td>\n",
       "      <td>bus</td>\n",
       "      <td>0.710145</td>\n",
       "      <td>manuell</td>\n",
       "      <td>0.00510</td>\n",
       "      <td>transporter</td>\n",
       "      <td>1.000000</td>\n",
       "      <td>0.250000</td>\n",
       "      <td>diesel</td>\n",
       "      <td>volkswagen</td>\n",
       "      <td>nein</td>\n",
       "    </tr>\n",
       "    <tr>\n",
       "      <th>235828</th>\n",
       "      <td>28990</td>\n",
       "      <td>limousine</td>\n",
       "      <td>0.956522</td>\n",
       "      <td>manuell</td>\n",
       "      <td>0.01600</td>\n",
       "      <td>m_reihe</td>\n",
       "      <td>0.310345</td>\n",
       "      <td>0.666667</td>\n",
       "      <td>gasoline</td>\n",
       "      <td>bmw</td>\n",
       "      <td>nein</td>\n",
       "    </tr>\n",
       "  </tbody>\n",
       "</table>\n",
       "<p>235829 rows × 11 columns</p>\n",
       "</div>"
      ],
      "text/plain": [
       "        dollar_price vehicle_type  registration_year    gearbox  power_ps  \\\n",
       "0               1500    small car           0.782609    manuell   0.00375   \n",
       "1               3600    small car           0.884058    manuell   0.00345   \n",
       "2                650    limousine           0.695652    manuell   0.00510   \n",
       "3               2200  convertible           0.826087    manuell   0.00545   \n",
       "4               2000    limousine           0.826087    manuell   0.00525   \n",
       "...              ...          ...                ...        ...       ...   \n",
       "235824          3200    limousine           0.826087    manuell   0.01125   \n",
       "235825          1150          bus           0.768116    manuell   0.00000   \n",
       "235826          1199  convertible           0.768116  automatik   0.00505   \n",
       "235827          9200          bus           0.710145    manuell   0.00510   \n",
       "235828         28990    limousine           0.956522    manuell   0.01600   \n",
       "\n",
       "              model  kilometer  registration_month fuel_type       brand  \\\n",
       "0              golf   1.000000            0.500000  gasoline  volkswagen   \n",
       "1             fabia   0.586207            0.583333    diesel       skoda   \n",
       "2               3er   1.000000            0.833333  gasoline         bmw   \n",
       "3           2_reihe   1.000000            0.666667  gasoline     peugeot   \n",
       "4           3_reihe   1.000000            1.000000  gasoline       mazda   \n",
       "...             ...        ...                 ...       ...         ...   \n",
       "235824         leon   1.000000            0.416667  gasoline        seat   \n",
       "235825       zafira   1.000000            0.250000  gasoline        opel   \n",
       "235826       fortwo   0.827586            0.250000  gasoline       smart   \n",
       "235827  transporter   1.000000            0.250000    diesel  volkswagen   \n",
       "235828      m_reihe   0.310345            0.666667  gasoline         bmw   \n",
       "\n",
       "       unrepaired_damage  \n",
       "0                   nein  \n",
       "1                   nein  \n",
       "2                     ja  \n",
       "3                   nein  \n",
       "4                   nein  \n",
       "...                  ...  \n",
       "235824                ja  \n",
       "235825              nein  \n",
       "235826              nein  \n",
       "235827              nein  \n",
       "235828              nein  \n",
       "\n",
       "[235829 rows x 11 columns]"
      ]
     },
     "execution_count": 12,
     "metadata": {},
     "output_type": "execute_result"
    }
   ],
   "source": [
    "from sklearn.preprocessing import MinMaxScaler\n",
    "# df['dollar_price'] = MinMaxScaler().fit_transform(np.array(df['dollar_price']).reshape(-1,1))\n",
    "df['kilometer'] = MinMaxScaler().fit_transform(np.array(df['kilometer']).reshape(-1,1))\n",
    "df['registration_month'] = MinMaxScaler().fit_transform(np.array(df['registration_month']).reshape(-1,1))\n",
    "df['registration_year'] = MinMaxScaler().fit_transform(np.array(df['registration_year']).reshape(-1,1))\n",
    "df['power_ps'] = MinMaxScaler().fit_transform(np.array(df['power_ps']).reshape(-1,1))\n",
    "\n",
    "df"
   ]
  },
  {
   "cell_type": "code",
   "execution_count": 13,
   "id": "9cbdb812",
   "metadata": {},
   "outputs": [
    {
     "data": {
      "text/plain": [
       "{'whiskers': [<matplotlib.lines.Line2D at 0x210c09b8490>,\n",
       "  <matplotlib.lines.Line2D at 0x210c09b8760>],\n",
       " 'caps': [<matplotlib.lines.Line2D at 0x210c09b8af0>,\n",
       "  <matplotlib.lines.Line2D at 0x210c09b8e80>],\n",
       " 'boxes': [<matplotlib.lines.Line2D at 0x210c09b8160>],\n",
       " 'medians': [<matplotlib.lines.Line2D at 0x210c09c5250>],\n",
       " 'fliers': [<matplotlib.lines.Line2D at 0x210c09c55e0>],\n",
       " 'means': []}"
      ]
     },
     "execution_count": 13,
     "metadata": {},
     "output_type": "execute_result"
    },
    {
     "data": {
      "image/png": "[encoded data removed]",
      "text/plain": [
       "<Figure size 432x288 with 1 Axes>"
      ]
     },
     "metadata": {
      "needs_background": "light"
     },
     "output_type": "display_data"
    }
   ],
   "source": [
    "plt.boxplot(df.dollar_price)"
   ]
  },
  {
   "cell_type": "code",
   "execution_count": 14,
   "id": "0d864248",
   "metadata": {},
   "outputs": [],
   "source": [
    "q1 = df.quantile(q=0.25, axis=0, numeric_only=True)\n",
    "q3 = df.quantile(q=0.75, axis=0, numeric_only=True)\n",
    "outliers=list((df.loc[df.dollar_price>q3.dollar_price+1.5*(q3.dollar_price-q1.dollar_price)]).sort_values(by=[\"dollar_price\"], ascending=False).index)"
   ]
  },
  {
   "cell_type": "code",
   "execution_count": 15,
   "id": "9481ef90",
   "metadata": {},
   "outputs": [],
   "source": [
    "df3 = df.copy()"
   ]
  },
  {
   "cell_type": "code",
   "execution_count": 16,
   "id": "cba1a9bb",
   "metadata": {},
   "outputs": [],
   "source": [
    "df.drop(outliers, inplace=True)"
   ]
  },
  {
   "cell_type": "code",
   "execution_count": 17,
   "id": "cc06a01b",
   "metadata": {},
   "outputs": [
    {
     "data": {
      "text/plain": [
       "{'whiskers': [<matplotlib.lines.Line2D at 0x210c0cd19a0>,\n",
       "  <matplotlib.lines.Line2D at 0x210c0cd1d30>],\n",
       " 'caps': [<matplotlib.lines.Line2D at 0x210c0ce1100>,\n",
       "  <matplotlib.lines.Line2D at 0x210c0ce1490>],\n",
       " 'boxes': [<matplotlib.lines.Line2D at 0x210c0cd1610>],\n",
       " 'medians': [<matplotlib.lines.Line2D at 0x210c0ce1820>],\n",
       " 'fliers': [<matplotlib.lines.Line2D at 0x210c0ce1bb0>],\n",
       " 'means': []}"
      ]
     },
     "execution_count": 17,
     "metadata": {},
     "output_type": "execute_result"
    },
    {
     "data": {
      "image/png": "[encoded data removed]",
      "text/plain": [
       "<Figure size 432x288 with 1 Axes>"
      ]
     },
     "metadata": {
      "needs_background": "light"
     },
     "output_type": "display_data"
    }
   ],
   "source": [
    "plt.boxplot(df.dollar_price)"
   ]
  },
  {
   "cell_type": "code",
   "execution_count": 18,
   "id": "a3ae6380",
   "metadata": {
    "colab": {
     "base_uri": "https://localhost:8080/"
    },
    "executionInfo": {
     "elapsed": 2500,
     "status": "ok",
     "timestamp": 1642511296067,
     "user": {
      "displayName": "Divyansh Raghuwanshi",
      "photoUrl": "https://lh3.googleusercontent.com/a/default-user=s64",
      "userId": "09313975529274446593"
     },
     "user_tz": -330
    },
    "id": "a3ae6380",
    "outputId": "fddb75f4-7665-4e19-afc9-9fde6d8925ad"
   },
   "outputs": [
    {
     "data": {
      "text/plain": [
       "array([[0.0, 1.0, 0.0, ..., 1.0, 0.5, 37],\n",
       "       [0.0, 1.0, 0.0, ..., 0.5862068965517242, 0.5833333333333333, 31],\n",
       "       [1.0, 0.0, 0.0, ..., 1.0, 0.8333333333333333, 2],\n",
       "       ...,\n",
       "       [0.0, 1.0, 0.0, ..., 1.0, 0.25, 24],\n",
       "       [0.0, 1.0, 0.0, ..., 0.8275862068965517, 0.25, 32],\n",
       "       [0.0, 1.0, 0.0, ..., 1.0, 0.25, 37]], dtype=object)"
      ]
     },
     "execution_count": 18,
     "metadata": {},
     "output_type": "execute_result"
    }
   ],
   "source": [
    "from sklearn.compose import ColumnTransformer\n",
    "le = LabelEncoder()\n",
    "df= np.array(df)\n",
    "#Applies transformation on each columns\n",
    "df[:,1] = le.fit_transform(df[:,1])\n",
    "df[:,5] = le.fit_transform(df[:,5])\n",
    "df[:,9] = le.fit_transform(df[:,9])\n",
    "\n",
    "# onehotencoder = OneHotEncoder(categories=[1,3,8,10])\n",
    "ct = ColumnTransformer(transformers = [('encode',OneHotEncoder(),[1])],remainder = 'passthrough')\n",
    "df = ct.fit_transform(df)\n",
    "df[:,9] = le.fit_transform(df[:,9])\n",
    "ct = ColumnTransformer(transformers = [('encode',OneHotEncoder(),[9])],remainder = 'passthrough')\n",
    "df = ct.fit_transform(df)\n",
    "df[:,15] = le.fit_transform(df[:,15])\n",
    "ct = ColumnTransformer(transformers = [('encode',OneHotEncoder(),[15])],remainder = 'passthrough')\n",
    "df = ct.fit_transform(df)\n",
    "df[:,21] = le.fit_transform(df[:,21])\n",
    "ct = ColumnTransformer(transformers = [('encode',OneHotEncoder(),[21])],remainder = 'passthrough')\n",
    "df = ct.fit_transform(df)\n",
    "df"
   ]
  },
  {
   "cell_type": "code",
   "execution_count": 19,
   "id": "9f720c2d",
   "metadata": {
    "colab": {
     "base_uri": "https://localhost:8080/",
     "height": 463
    },
    "executionInfo": {
     "elapsed": 393,
     "status": "ok",
     "timestamp": 1642511296449,
     "user": {
      "displayName": "Divyansh Raghuwanshi",
      "photoUrl": "https://lh3.googleusercontent.com/a/default-user=s64",
      "userId": "09313975529274446593"
     },
     "user_tz": -330
    },
    "id": "9f720c2d",
    "outputId": "7e32349c-f140-47d4-f4f9-dccd60fb0549",
    "scrolled": false
   },
   "outputs": [
    {
     "data": {
      "text/html": [
       "<div>\n",
       "<style scoped>\n",
       "    .dataframe tbody tr th:only-of-type {\n",
       "        vertical-align: middle;\n",
       "    }\n",
       "\n",
       "    .dataframe tbody tr th {\n",
       "        vertical-align: top;\n",
       "    }\n",
       "\n",
       "    .dataframe thead th {\n",
       "        text-align: right;\n",
       "    }\n",
       "</style>\n",
       "<table border=\"1\" class=\"dataframe\">\n",
       "  <thead>\n",
       "    <tr style=\"text-align: right;\">\n",
       "      <th></th>\n",
       "      <th>0</th>\n",
       "      <th>1</th>\n",
       "      <th>2</th>\n",
       "      <th>3</th>\n",
       "      <th>4</th>\n",
       "      <th>5</th>\n",
       "      <th>6</th>\n",
       "      <th>7</th>\n",
       "      <th>8</th>\n",
       "      <th>9</th>\n",
       "      <th>...</th>\n",
       "      <th>13</th>\n",
       "      <th>14</th>\n",
       "      <th>15</th>\n",
       "      <th>16</th>\n",
       "      <th>17</th>\n",
       "      <th>18</th>\n",
       "      <th>19</th>\n",
       "      <th>20</th>\n",
       "      <th>21</th>\n",
       "      <th>22</th>\n",
       "    </tr>\n",
       "  </thead>\n",
       "  <tbody>\n",
       "    <tr>\n",
       "      <th>0</th>\n",
       "      <td>0.0</td>\n",
       "      <td>1.0</td>\n",
       "      <td>0.0</td>\n",
       "      <td>0.0</td>\n",
       "      <td>1.0</td>\n",
       "      <td>0.0</td>\n",
       "      <td>0.0</td>\n",
       "      <td>0.0</td>\n",
       "      <td>1.0</td>\n",
       "      <td>0.0</td>\n",
       "      <td>...</td>\n",
       "      <td>0.0</td>\n",
       "      <td>1.0</td>\n",
       "      <td>0.0</td>\n",
       "      <td>1500</td>\n",
       "      <td>0.782609</td>\n",
       "      <td>0.00375</td>\n",
       "      <td>113</td>\n",
       "      <td>1.0</td>\n",
       "      <td>0.5</td>\n",
       "      <td>37</td>\n",
       "    </tr>\n",
       "    <tr>\n",
       "      <th>1</th>\n",
       "      <td>0.0</td>\n",
       "      <td>1.0</td>\n",
       "      <td>0.0</td>\n",
       "      <td>1.0</td>\n",
       "      <td>0.0</td>\n",
       "      <td>0.0</td>\n",
       "      <td>0.0</td>\n",
       "      <td>0.0</td>\n",
       "      <td>1.0</td>\n",
       "      <td>0.0</td>\n",
       "      <td>...</td>\n",
       "      <td>0.0</td>\n",
       "      <td>1.0</td>\n",
       "      <td>0.0</td>\n",
       "      <td>3600</td>\n",
       "      <td>0.884058</td>\n",
       "      <td>0.00345</td>\n",
       "      <td>99</td>\n",
       "      <td>0.586207</td>\n",
       "      <td>0.583333</td>\n",
       "      <td>31</td>\n",
       "    </tr>\n",
       "    <tr>\n",
       "      <th>2</th>\n",
       "      <td>1.0</td>\n",
       "      <td>0.0</td>\n",
       "      <td>0.0</td>\n",
       "      <td>0.0</td>\n",
       "      <td>1.0</td>\n",
       "      <td>0.0</td>\n",
       "      <td>0.0</td>\n",
       "      <td>0.0</td>\n",
       "      <td>1.0</td>\n",
       "      <td>0.0</td>\n",
       "      <td>...</td>\n",
       "      <td>0.0</td>\n",
       "      <td>0.0</td>\n",
       "      <td>0.0</td>\n",
       "      <td>650</td>\n",
       "      <td>0.695652</td>\n",
       "      <td>0.0051</td>\n",
       "      <td>11</td>\n",
       "      <td>1.0</td>\n",
       "      <td>0.833333</td>\n",
       "      <td>2</td>\n",
       "    </tr>\n",
       "    <tr>\n",
       "      <th>3</th>\n",
       "      <td>0.0</td>\n",
       "      <td>1.0</td>\n",
       "      <td>0.0</td>\n",
       "      <td>0.0</td>\n",
       "      <td>1.0</td>\n",
       "      <td>0.0</td>\n",
       "      <td>0.0</td>\n",
       "      <td>0.0</td>\n",
       "      <td>1.0</td>\n",
       "      <td>0.0</td>\n",
       "      <td>...</td>\n",
       "      <td>0.0</td>\n",
       "      <td>0.0</td>\n",
       "      <td>0.0</td>\n",
       "      <td>2200</td>\n",
       "      <td>0.826087</td>\n",
       "      <td>0.00545</td>\n",
       "      <td>8</td>\n",
       "      <td>1.0</td>\n",
       "      <td>0.666667</td>\n",
       "      <td>25</td>\n",
       "    </tr>\n",
       "    <tr>\n",
       "      <th>4</th>\n",
       "      <td>0.0</td>\n",
       "      <td>1.0</td>\n",
       "      <td>0.0</td>\n",
       "      <td>0.0</td>\n",
       "      <td>1.0</td>\n",
       "      <td>0.0</td>\n",
       "      <td>0.0</td>\n",
       "      <td>0.0</td>\n",
       "      <td>1.0</td>\n",
       "      <td>0.0</td>\n",
       "      <td>...</td>\n",
       "      <td>0.0</td>\n",
       "      <td>0.0</td>\n",
       "      <td>0.0</td>\n",
       "      <td>2000</td>\n",
       "      <td>0.826087</td>\n",
       "      <td>0.00525</td>\n",
       "      <td>10</td>\n",
       "      <td>1.0</td>\n",
       "      <td>1.0</td>\n",
       "      <td>19</td>\n",
       "    </tr>\n",
       "    <tr>\n",
       "      <th>...</th>\n",
       "      <td>...</td>\n",
       "      <td>...</td>\n",
       "      <td>...</td>\n",
       "      <td>...</td>\n",
       "      <td>...</td>\n",
       "      <td>...</td>\n",
       "      <td>...</td>\n",
       "      <td>...</td>\n",
       "      <td>...</td>\n",
       "      <td>...</td>\n",
       "      <td>...</td>\n",
       "      <td>...</td>\n",
       "      <td>...</td>\n",
       "      <td>...</td>\n",
       "      <td>...</td>\n",
       "      <td>...</td>\n",
       "      <td>...</td>\n",
       "      <td>...</td>\n",
       "      <td>...</td>\n",
       "      <td>...</td>\n",
       "      <td>...</td>\n",
       "    </tr>\n",
       "    <tr>\n",
       "      <th>220487</th>\n",
       "      <td>0.0</td>\n",
       "      <td>1.0</td>\n",
       "      <td>0.0</td>\n",
       "      <td>1.0</td>\n",
       "      <td>0.0</td>\n",
       "      <td>0.0</td>\n",
       "      <td>0.0</td>\n",
       "      <td>0.0</td>\n",
       "      <td>1.0</td>\n",
       "      <td>0.0</td>\n",
       "      <td>...</td>\n",
       "      <td>0.0</td>\n",
       "      <td>0.0</td>\n",
       "      <td>1.0</td>\n",
       "      <td>3999</td>\n",
       "      <td>0.84058</td>\n",
       "      <td>0.00015</td>\n",
       "      <td>11</td>\n",
       "      <td>1.0</td>\n",
       "      <td>0.416667</td>\n",
       "      <td>2</td>\n",
       "    </tr>\n",
       "    <tr>\n",
       "      <th>220488</th>\n",
       "      <td>1.0</td>\n",
       "      <td>0.0</td>\n",
       "      <td>0.0</td>\n",
       "      <td>0.0</td>\n",
       "      <td>1.0</td>\n",
       "      <td>0.0</td>\n",
       "      <td>0.0</td>\n",
       "      <td>0.0</td>\n",
       "      <td>1.0</td>\n",
       "      <td>0.0</td>\n",
       "      <td>...</td>\n",
       "      <td>0.0</td>\n",
       "      <td>0.0</td>\n",
       "      <td>0.0</td>\n",
       "      <td>3200</td>\n",
       "      <td>0.826087</td>\n",
       "      <td>0.01125</td>\n",
       "      <td>136</td>\n",
       "      <td>1.0</td>\n",
       "      <td>0.416667</td>\n",
       "      <td>30</td>\n",
       "    </tr>\n",
       "    <tr>\n",
       "      <th>220489</th>\n",
       "      <td>0.0</td>\n",
       "      <td>1.0</td>\n",
       "      <td>0.0</td>\n",
       "      <td>0.0</td>\n",
       "      <td>1.0</td>\n",
       "      <td>0.0</td>\n",
       "      <td>0.0</td>\n",
       "      <td>0.0</td>\n",
       "      <td>1.0</td>\n",
       "      <td>1.0</td>\n",
       "      <td>...</td>\n",
       "      <td>0.0</td>\n",
       "      <td>0.0</td>\n",
       "      <td>0.0</td>\n",
       "      <td>1150</td>\n",
       "      <td>0.768116</td>\n",
       "      <td>0.0</td>\n",
       "      <td>238</td>\n",
       "      <td>1.0</td>\n",
       "      <td>0.25</td>\n",
       "      <td>24</td>\n",
       "    </tr>\n",
       "    <tr>\n",
       "      <th>220490</th>\n",
       "      <td>0.0</td>\n",
       "      <td>1.0</td>\n",
       "      <td>0.0</td>\n",
       "      <td>0.0</td>\n",
       "      <td>1.0</td>\n",
       "      <td>0.0</td>\n",
       "      <td>0.0</td>\n",
       "      <td>1.0</td>\n",
       "      <td>0.0</td>\n",
       "      <td>0.0</td>\n",
       "      <td>...</td>\n",
       "      <td>0.0</td>\n",
       "      <td>0.0</td>\n",
       "      <td>0.0</td>\n",
       "      <td>1199</td>\n",
       "      <td>0.768116</td>\n",
       "      <td>0.00505</td>\n",
       "      <td>104</td>\n",
       "      <td>0.827586</td>\n",
       "      <td>0.25</td>\n",
       "      <td>32</td>\n",
       "    </tr>\n",
       "    <tr>\n",
       "      <th>220491</th>\n",
       "      <td>0.0</td>\n",
       "      <td>1.0</td>\n",
       "      <td>0.0</td>\n",
       "      <td>1.0</td>\n",
       "      <td>0.0</td>\n",
       "      <td>0.0</td>\n",
       "      <td>0.0</td>\n",
       "      <td>0.0</td>\n",
       "      <td>1.0</td>\n",
       "      <td>1.0</td>\n",
       "      <td>...</td>\n",
       "      <td>0.0</td>\n",
       "      <td>0.0</td>\n",
       "      <td>0.0</td>\n",
       "      <td>9200</td>\n",
       "      <td>0.710145</td>\n",
       "      <td>0.0051</td>\n",
       "      <td>214</td>\n",
       "      <td>1.0</td>\n",
       "      <td>0.25</td>\n",
       "      <td>37</td>\n",
       "    </tr>\n",
       "  </tbody>\n",
       "</table>\n",
       "<p>220492 rows × 23 columns</p>\n",
       "</div>"
      ],
      "text/plain": [
       "         0    1    2    3    4    5    6    7    8    9   ...   13   14   15  \\\n",
       "0       0.0  1.0  0.0  0.0  1.0  0.0  0.0  0.0  1.0  0.0  ...  0.0  1.0  0.0   \n",
       "1       0.0  1.0  0.0  1.0  0.0  0.0  0.0  0.0  1.0  0.0  ...  0.0  1.0  0.0   \n",
       "2       1.0  0.0  0.0  0.0  1.0  0.0  0.0  0.0  1.0  0.0  ...  0.0  0.0  0.0   \n",
       "3       0.0  1.0  0.0  0.0  1.0  0.0  0.0  0.0  1.0  0.0  ...  0.0  0.0  0.0   \n",
       "4       0.0  1.0  0.0  0.0  1.0  0.0  0.0  0.0  1.0  0.0  ...  0.0  0.0  0.0   \n",
       "...     ...  ...  ...  ...  ...  ...  ...  ...  ...  ...  ...  ...  ...  ...   \n",
       "220487  0.0  1.0  0.0  1.0  0.0  0.0  0.0  0.0  1.0  0.0  ...  0.0  0.0  1.0   \n",
       "220488  1.0  0.0  0.0  0.0  1.0  0.0  0.0  0.0  1.0  0.0  ...  0.0  0.0  0.0   \n",
       "220489  0.0  1.0  0.0  0.0  1.0  0.0  0.0  0.0  1.0  1.0  ...  0.0  0.0  0.0   \n",
       "220490  0.0  1.0  0.0  0.0  1.0  0.0  0.0  1.0  0.0  0.0  ...  0.0  0.0  0.0   \n",
       "220491  0.0  1.0  0.0  1.0  0.0  0.0  0.0  0.0  1.0  1.0  ...  0.0  0.0  0.0   \n",
       "\n",
       "          16        17       18   19        20        21  22  \n",
       "0       1500  0.782609  0.00375  113       1.0       0.5  37  \n",
       "1       3600  0.884058  0.00345   99  0.586207  0.583333  31  \n",
       "2        650  0.695652   0.0051   11       1.0  0.833333   2  \n",
       "3       2200  0.826087  0.00545    8       1.0  0.666667  25  \n",
       "4       2000  0.826087  0.00525   10       1.0       1.0  19  \n",
       "...      ...       ...      ...  ...       ...       ...  ..  \n",
       "220487  3999   0.84058  0.00015   11       1.0  0.416667   2  \n",
       "220488  3200  0.826087  0.01125  136       1.0  0.416667  30  \n",
       "220489  1150  0.768116      0.0  238       1.0      0.25  24  \n",
       "220490  1199  0.768116  0.00505  104  0.827586      0.25  32  \n",
       "220491  9200  0.710145   0.0051  214       1.0      0.25  37  \n",
       "\n",
       "[220492 rows x 23 columns]"
      ]
     },
     "execution_count": 19,
     "metadata": {},
     "output_type": "execute_result"
    }
   ],
   "source": [
    "df = pd.DataFrame(df)\n",
    "df"
   ]
  },
  {
   "cell_type": "code",
   "execution_count": 20,
   "id": "TpbOD5n9Rkk_",
   "metadata": {
    "colab": {
     "base_uri": "https://localhost:8080/",
     "height": 463
    },
    "executionInfo": {
     "elapsed": 16,
     "status": "ok",
     "timestamp": 1642511297919,
     "user": {
      "displayName": "Divyansh Raghuwanshi",
      "photoUrl": "https://lh3.googleusercontent.com/a/default-user=s64",
      "userId": "09313975529274446593"
     },
     "user_tz": -330
    },
    "id": "TpbOD5n9Rkk_",
    "outputId": "f52964e8-3d02-4c21-f5d1-09b951c4a69e"
   },
   "outputs": [
    {
     "data": {
      "text/html": [
       "<div>\n",
       "<style scoped>\n",
       "    .dataframe tbody tr th:only-of-type {\n",
       "        vertical-align: middle;\n",
       "    }\n",
       "\n",
       "    .dataframe tbody tr th {\n",
       "        vertical-align: top;\n",
       "    }\n",
       "\n",
       "    .dataframe thead th {\n",
       "        text-align: right;\n",
       "    }\n",
       "</style>\n",
       "<table border=\"1\" class=\"dataframe\">\n",
       "  <thead>\n",
       "    <tr style=\"text-align: right;\">\n",
       "      <th></th>\n",
       "      <th>0</th>\n",
       "      <th>1</th>\n",
       "      <th>2</th>\n",
       "      <th>3</th>\n",
       "      <th>4</th>\n",
       "      <th>5</th>\n",
       "      <th>6</th>\n",
       "      <th>7</th>\n",
       "      <th>8</th>\n",
       "      <th>9</th>\n",
       "      <th>...</th>\n",
       "      <th>12</th>\n",
       "      <th>13</th>\n",
       "      <th>14</th>\n",
       "      <th>15</th>\n",
       "      <th>16</th>\n",
       "      <th>17</th>\n",
       "      <th>18</th>\n",
       "      <th>20</th>\n",
       "      <th>21</th>\n",
       "      <th>22</th>\n",
       "    </tr>\n",
       "  </thead>\n",
       "  <tbody>\n",
       "    <tr>\n",
       "      <th>0</th>\n",
       "      <td>0.0</td>\n",
       "      <td>1.0</td>\n",
       "      <td>0.0</td>\n",
       "      <td>0.0</td>\n",
       "      <td>1.0</td>\n",
       "      <td>0.0</td>\n",
       "      <td>0.0</td>\n",
       "      <td>0.0</td>\n",
       "      <td>1.0</td>\n",
       "      <td>0.0</td>\n",
       "      <td>...</td>\n",
       "      <td>0.0</td>\n",
       "      <td>0.0</td>\n",
       "      <td>1.0</td>\n",
       "      <td>0.0</td>\n",
       "      <td>1500</td>\n",
       "      <td>0.782609</td>\n",
       "      <td>0.00375</td>\n",
       "      <td>1.0</td>\n",
       "      <td>0.5</td>\n",
       "      <td>37</td>\n",
       "    </tr>\n",
       "    <tr>\n",
       "      <th>1</th>\n",
       "      <td>0.0</td>\n",
       "      <td>1.0</td>\n",
       "      <td>0.0</td>\n",
       "      <td>1.0</td>\n",
       "      <td>0.0</td>\n",
       "      <td>0.0</td>\n",
       "      <td>0.0</td>\n",
       "      <td>0.0</td>\n",
       "      <td>1.0</td>\n",
       "      <td>0.0</td>\n",
       "      <td>...</td>\n",
       "      <td>0.0</td>\n",
       "      <td>0.0</td>\n",
       "      <td>1.0</td>\n",
       "      <td>0.0</td>\n",
       "      <td>3600</td>\n",
       "      <td>0.884058</td>\n",
       "      <td>0.00345</td>\n",
       "      <td>0.586207</td>\n",
       "      <td>0.583333</td>\n",
       "      <td>31</td>\n",
       "    </tr>\n",
       "    <tr>\n",
       "      <th>2</th>\n",
       "      <td>1.0</td>\n",
       "      <td>0.0</td>\n",
       "      <td>0.0</td>\n",
       "      <td>0.0</td>\n",
       "      <td>1.0</td>\n",
       "      <td>0.0</td>\n",
       "      <td>0.0</td>\n",
       "      <td>0.0</td>\n",
       "      <td>1.0</td>\n",
       "      <td>0.0</td>\n",
       "      <td>...</td>\n",
       "      <td>1.0</td>\n",
       "      <td>0.0</td>\n",
       "      <td>0.0</td>\n",
       "      <td>0.0</td>\n",
       "      <td>650</td>\n",
       "      <td>0.695652</td>\n",
       "      <td>0.0051</td>\n",
       "      <td>1.0</td>\n",
       "      <td>0.833333</td>\n",
       "      <td>2</td>\n",
       "    </tr>\n",
       "    <tr>\n",
       "      <th>3</th>\n",
       "      <td>0.0</td>\n",
       "      <td>1.0</td>\n",
       "      <td>0.0</td>\n",
       "      <td>0.0</td>\n",
       "      <td>1.0</td>\n",
       "      <td>0.0</td>\n",
       "      <td>0.0</td>\n",
       "      <td>0.0</td>\n",
       "      <td>1.0</td>\n",
       "      <td>0.0</td>\n",
       "      <td>...</td>\n",
       "      <td>0.0</td>\n",
       "      <td>0.0</td>\n",
       "      <td>0.0</td>\n",
       "      <td>0.0</td>\n",
       "      <td>2200</td>\n",
       "      <td>0.826087</td>\n",
       "      <td>0.00545</td>\n",
       "      <td>1.0</td>\n",
       "      <td>0.666667</td>\n",
       "      <td>25</td>\n",
       "    </tr>\n",
       "    <tr>\n",
       "      <th>4</th>\n",
       "      <td>0.0</td>\n",
       "      <td>1.0</td>\n",
       "      <td>0.0</td>\n",
       "      <td>0.0</td>\n",
       "      <td>1.0</td>\n",
       "      <td>0.0</td>\n",
       "      <td>0.0</td>\n",
       "      <td>0.0</td>\n",
       "      <td>1.0</td>\n",
       "      <td>0.0</td>\n",
       "      <td>...</td>\n",
       "      <td>1.0</td>\n",
       "      <td>0.0</td>\n",
       "      <td>0.0</td>\n",
       "      <td>0.0</td>\n",
       "      <td>2000</td>\n",
       "      <td>0.826087</td>\n",
       "      <td>0.00525</td>\n",
       "      <td>1.0</td>\n",
       "      <td>1.0</td>\n",
       "      <td>19</td>\n",
       "    </tr>\n",
       "    <tr>\n",
       "      <th>...</th>\n",
       "      <td>...</td>\n",
       "      <td>...</td>\n",
       "      <td>...</td>\n",
       "      <td>...</td>\n",
       "      <td>...</td>\n",
       "      <td>...</td>\n",
       "      <td>...</td>\n",
       "      <td>...</td>\n",
       "      <td>...</td>\n",
       "      <td>...</td>\n",
       "      <td>...</td>\n",
       "      <td>...</td>\n",
       "      <td>...</td>\n",
       "      <td>...</td>\n",
       "      <td>...</td>\n",
       "      <td>...</td>\n",
       "      <td>...</td>\n",
       "      <td>...</td>\n",
       "      <td>...</td>\n",
       "      <td>...</td>\n",
       "      <td>...</td>\n",
       "    </tr>\n",
       "    <tr>\n",
       "      <th>220487</th>\n",
       "      <td>0.0</td>\n",
       "      <td>1.0</td>\n",
       "      <td>0.0</td>\n",
       "      <td>1.0</td>\n",
       "      <td>0.0</td>\n",
       "      <td>0.0</td>\n",
       "      <td>0.0</td>\n",
       "      <td>0.0</td>\n",
       "      <td>1.0</td>\n",
       "      <td>0.0</td>\n",
       "      <td>...</td>\n",
       "      <td>0.0</td>\n",
       "      <td>0.0</td>\n",
       "      <td>0.0</td>\n",
       "      <td>1.0</td>\n",
       "      <td>3999</td>\n",
       "      <td>0.84058</td>\n",
       "      <td>0.00015</td>\n",
       "      <td>1.0</td>\n",
       "      <td>0.416667</td>\n",
       "      <td>2</td>\n",
       "    </tr>\n",
       "    <tr>\n",
       "      <th>220488</th>\n",
       "      <td>1.0</td>\n",
       "      <td>0.0</td>\n",
       "      <td>0.0</td>\n",
       "      <td>0.0</td>\n",
       "      <td>1.0</td>\n",
       "      <td>0.0</td>\n",
       "      <td>0.0</td>\n",
       "      <td>0.0</td>\n",
       "      <td>1.0</td>\n",
       "      <td>0.0</td>\n",
       "      <td>...</td>\n",
       "      <td>1.0</td>\n",
       "      <td>0.0</td>\n",
       "      <td>0.0</td>\n",
       "      <td>0.0</td>\n",
       "      <td>3200</td>\n",
       "      <td>0.826087</td>\n",
       "      <td>0.01125</td>\n",
       "      <td>1.0</td>\n",
       "      <td>0.416667</td>\n",
       "      <td>30</td>\n",
       "    </tr>\n",
       "    <tr>\n",
       "      <th>220489</th>\n",
       "      <td>0.0</td>\n",
       "      <td>1.0</td>\n",
       "      <td>0.0</td>\n",
       "      <td>0.0</td>\n",
       "      <td>1.0</td>\n",
       "      <td>0.0</td>\n",
       "      <td>0.0</td>\n",
       "      <td>0.0</td>\n",
       "      <td>1.0</td>\n",
       "      <td>1.0</td>\n",
       "      <td>...</td>\n",
       "      <td>0.0</td>\n",
       "      <td>0.0</td>\n",
       "      <td>0.0</td>\n",
       "      <td>0.0</td>\n",
       "      <td>1150</td>\n",
       "      <td>0.768116</td>\n",
       "      <td>0.0</td>\n",
       "      <td>1.0</td>\n",
       "      <td>0.25</td>\n",
       "      <td>24</td>\n",
       "    </tr>\n",
       "    <tr>\n",
       "      <th>220490</th>\n",
       "      <td>0.0</td>\n",
       "      <td>1.0</td>\n",
       "      <td>0.0</td>\n",
       "      <td>0.0</td>\n",
       "      <td>1.0</td>\n",
       "      <td>0.0</td>\n",
       "      <td>0.0</td>\n",
       "      <td>1.0</td>\n",
       "      <td>0.0</td>\n",
       "      <td>0.0</td>\n",
       "      <td>...</td>\n",
       "      <td>0.0</td>\n",
       "      <td>0.0</td>\n",
       "      <td>0.0</td>\n",
       "      <td>0.0</td>\n",
       "      <td>1199</td>\n",
       "      <td>0.768116</td>\n",
       "      <td>0.00505</td>\n",
       "      <td>0.827586</td>\n",
       "      <td>0.25</td>\n",
       "      <td>32</td>\n",
       "    </tr>\n",
       "    <tr>\n",
       "      <th>220491</th>\n",
       "      <td>0.0</td>\n",
       "      <td>1.0</td>\n",
       "      <td>0.0</td>\n",
       "      <td>1.0</td>\n",
       "      <td>0.0</td>\n",
       "      <td>0.0</td>\n",
       "      <td>0.0</td>\n",
       "      <td>0.0</td>\n",
       "      <td>1.0</td>\n",
       "      <td>1.0</td>\n",
       "      <td>...</td>\n",
       "      <td>0.0</td>\n",
       "      <td>0.0</td>\n",
       "      <td>0.0</td>\n",
       "      <td>0.0</td>\n",
       "      <td>9200</td>\n",
       "      <td>0.710145</td>\n",
       "      <td>0.0051</td>\n",
       "      <td>1.0</td>\n",
       "      <td>0.25</td>\n",
       "      <td>37</td>\n",
       "    </tr>\n",
       "  </tbody>\n",
       "</table>\n",
       "<p>220492 rows × 22 columns</p>\n",
       "</div>"
      ],
      "text/plain": [
       "         0    1    2    3    4    5    6    7    8    9   ...   12   13   14  \\\n",
       "0       0.0  1.0  0.0  0.0  1.0  0.0  0.0  0.0  1.0  0.0  ...  0.0  0.0  1.0   \n",
       "1       0.0  1.0  0.0  1.0  0.0  0.0  0.0  0.0  1.0  0.0  ...  0.0  0.0  1.0   \n",
       "2       1.0  0.0  0.0  0.0  1.0  0.0  0.0  0.0  1.0  0.0  ...  1.0  0.0  0.0   \n",
       "3       0.0  1.0  0.0  0.0  1.0  0.0  0.0  0.0  1.0  0.0  ...  0.0  0.0  0.0   \n",
       "4       0.0  1.0  0.0  0.0  1.0  0.0  0.0  0.0  1.0  0.0  ...  1.0  0.0  0.0   \n",
       "...     ...  ...  ...  ...  ...  ...  ...  ...  ...  ...  ...  ...  ...  ...   \n",
       "220487  0.0  1.0  0.0  1.0  0.0  0.0  0.0  0.0  1.0  0.0  ...  0.0  0.0  0.0   \n",
       "220488  1.0  0.0  0.0  0.0  1.0  0.0  0.0  0.0  1.0  0.0  ...  1.0  0.0  0.0   \n",
       "220489  0.0  1.0  0.0  0.0  1.0  0.0  0.0  0.0  1.0  1.0  ...  0.0  0.0  0.0   \n",
       "220490  0.0  1.0  0.0  0.0  1.0  0.0  0.0  1.0  0.0  0.0  ...  0.0  0.0  0.0   \n",
       "220491  0.0  1.0  0.0  1.0  0.0  0.0  0.0  0.0  1.0  1.0  ...  0.0  0.0  0.0   \n",
       "\n",
       "         15    16        17       18        20        21  22  \n",
       "0       0.0  1500  0.782609  0.00375       1.0       0.5  37  \n",
       "1       0.0  3600  0.884058  0.00345  0.586207  0.583333  31  \n",
       "2       0.0   650  0.695652   0.0051       1.0  0.833333   2  \n",
       "3       0.0  2200  0.826087  0.00545       1.0  0.666667  25  \n",
       "4       0.0  2000  0.826087  0.00525       1.0       1.0  19  \n",
       "...     ...   ...       ...      ...       ...       ...  ..  \n",
       "220487  1.0  3999   0.84058  0.00015       1.0  0.416667   2  \n",
       "220488  0.0  3200  0.826087  0.01125       1.0  0.416667  30  \n",
       "220489  0.0  1150  0.768116      0.0       1.0      0.25  24  \n",
       "220490  0.0  1199  0.768116  0.00505  0.827586      0.25  32  \n",
       "220491  0.0  9200  0.710145   0.0051       1.0      0.25  37  \n",
       "\n",
       "[220492 rows x 22 columns]"
      ]
     },
     "execution_count": 20,
     "metadata": {},
     "output_type": "execute_result"
    }
   ],
   "source": [
    "df.drop([19],axis=1,inplace=True)\n",
    "df"
   ]
  },
  {
   "cell_type": "code",
   "execution_count": 21,
   "id": "b003704e",
   "metadata": {
    "id": "b003704e"
   },
   "outputs": [],
   "source": [
    "import torch"
   ]
  },
  {
   "cell_type": "code",
   "execution_count": 22,
   "id": "b7ab7c07",
   "metadata": {
    "colab": {
     "base_uri": "https://localhost:8080/"
    },
    "executionInfo": {
     "elapsed": 848,
     "status": "ok",
     "timestamp": 1642511302200,
     "user": {
      "displayName": "Divyansh Raghuwanshi",
      "photoUrl": "https://lh3.googleusercontent.com/a/default-user=s64",
      "userId": "09313975529274446593"
     },
     "user_tz": -330
    },
    "id": "b7ab7c07",
    "outputId": "3f964689-db28-4b72-f680-36967fa29804"
   },
   "outputs": [
    {
     "data": {
      "text/plain": [
       "array([[ 1.        ,  0.        ,  0.        , ...,  1.        ,\n",
       "         0.5       , 37.        ],\n",
       "       [ 1.        ,  0.        ,  1.        , ...,  0.5862069 ,\n",
       "         0.5833333 , 31.        ],\n",
       "       [ 0.        ,  0.        ,  0.        , ...,  1.        ,\n",
       "         0.8333333 ,  2.        ],\n",
       "       ...,\n",
       "       [ 1.        ,  0.        ,  0.        , ...,  1.        ,\n",
       "         0.25      , 24.        ],\n",
       "       [ 1.        ,  0.        ,  0.        , ...,  0.82758623,\n",
       "         0.25      , 32.        ],\n",
       "       [ 1.        ,  0.        ,  1.        , ...,  1.        ,\n",
       "         0.25      , 37.        ]], dtype=float32)"
      ]
     },
     "execution_count": 22,
     "metadata": {},
     "output_type": "execute_result"
    }
   ],
   "source": [
    "X = np.array(df.iloc[:, 1:])\n",
    "Y = np.array(df.iloc[:, 16])\n",
    "X = X.astype(\"float32\")\n",
    "Y = Y.astype(\"float32\")\n",
    "X"
   ]
  },
  {
   "cell_type": "code",
   "execution_count": 23,
   "id": "5804b8af",
   "metadata": {
    "colab": {
     "base_uri": "https://localhost:8080/"
    },
    "executionInfo": {
     "elapsed": 564,
     "status": "ok",
     "timestamp": 1642511303853,
     "user": {
      "displayName": "Divyansh Raghuwanshi",
      "photoUrl": "https://lh3.googleusercontent.com/a/default-user=s64",
      "userId": "09313975529274446593"
     },
     "user_tz": -330
    },
    "id": "5804b8af",
    "outputId": "1a117651-c904-4ff4-c545-040338c0c0ec"
   },
   "outputs": [
    {
     "data": {
      "text/plain": [
       "tensor([[ 1.0000,  0.0000,  1.0000,  ...,  1.0000,  0.3333, 10.0000],\n",
       "        [ 1.0000,  0.0000,  0.0000,  ...,  1.0000,  1.0000, 37.0000],\n",
       "        [ 1.0000,  0.0000,  1.0000,  ...,  1.0000,  0.5833, 37.0000],\n",
       "        ...,\n",
       "        [ 1.0000,  0.0000,  1.0000,  ...,  1.0000,  0.2500, 10.0000],\n",
       "        [ 1.0000,  0.0000,  1.0000,  ...,  0.6552,  1.0000, 10.0000],\n",
       "        [ 0.0000,  0.0000,  0.0000,  ...,  1.0000,  1.0000,  2.0000]])"
      ]
     },
     "execution_count": 23,
     "metadata": {},
     "output_type": "execute_result"
    }
   ],
   "source": [
    "from sklearn.model_selection import train_test_split\n",
    "train_x, X_test, train_y, y_test = train_test_split(X, Y, test_size=0.33, random_state=42)\n",
    "train_x_tr=torch.from_numpy(train_x)\n",
    "train_y_tr=torch.from_numpy(train_y)\n",
    "test_x_tr = torch.from_numpy(X_test)\n",
    "test_y_tr = torch.from_numpy(y_test)\n",
    "train_x_tr"
   ]
  },
  {
   "cell_type": "code",
   "execution_count": 24,
   "id": "9d056c6b",
   "metadata": {
    "colab": {
     "base_uri": "https://localhost:8080/"
    },
    "executionInfo": {
     "elapsed": 6,
     "status": "ok",
     "timestamp": 1642511305618,
     "user": {
      "displayName": "Divyansh Raghuwanshi",
      "photoUrl": "https://lh3.googleusercontent.com/a/default-user=s64",
      "userId": "09313975529274446593"
     },
     "user_tz": -330
    },
    "id": "9d056c6b",
    "outputId": "e7a938ef-7d1d-4b79-af6e-d9402d84f333"
   },
   "outputs": [
    {
     "data": {
      "text/plain": [
       "torch.Size([147729, 21])"
      ]
     },
     "execution_count": 24,
     "metadata": {},
     "output_type": "execute_result"
    }
   ],
   "source": [
    "train_x_tr.shape"
   ]
  },
  {
   "cell_type": "markdown",
   "id": "dae871fe",
   "metadata": {},
   "source": [
    "## Defining Model and making predictions"
   ]
  },
  {
   "cell_type": "code",
   "execution_count": 25,
   "id": "58e85aa5",
   "metadata": {
    "id": "58e85aa5"
   },
   "outputs": [],
   "source": [
    "lossl = []"
   ]
  },
  {
   "cell_type": "code",
   "execution_count": 26,
   "id": "6a5cecdf",
   "metadata": {
    "colab": {
     "base_uri": "https://localhost:8080/"
    },
    "executionInfo": {
     "elapsed": 26985,
     "status": "ok",
     "timestamp": 1642511333554,
     "user": {
      "displayName": "Divyansh Raghuwanshi",
      "photoUrl": "https://lh3.googleusercontent.com/a/default-user=s64",
      "userId": "09313975529274446593"
     },
     "user_tz": -330
    },
    "id": "6a5cecdf",
    "outputId": "7101d96e-03bc-4085-b05a-d3c6848dda56"
   },
   "outputs": [
    {
     "name": "stdout",
     "output_type": "stream",
     "text": [
      "epoch 1000 loss=13.84\n",
      "epoch 2000 loss=10.75\n",
      "epoch 3000 loss=1.204\n",
      "epoch 4000 loss=0.4697\n",
      "epoch 5000 loss=0.06632\n"
     ]
    }
   ],
   "source": [
    "class MyModel(torch.nn.Module):\n",
    "    def __init__(self):\n",
    "        super(MyModel,self).__init__()\n",
    "\n",
    "\n",
    "        self.net = torch.nn.Sequential(\n",
    "        torch.nn.Linear(21, 3),   # Multioutput linear regression\n",
    "        \n",
    "\n",
    "        )\n",
    "\n",
    "    def forward(self,x):\n",
    "        return self.net(x)\n",
    "    \n",
    "modelA = MyModel()\n",
    "modelA = modelA\n",
    "\n",
    "optimizer = torch.optim.Adam(params=modelA.parameters(), lr=0.1)\n",
    "scheduler = torch.optim.lr_scheduler.ExponentialLR(optimizer, gamma=0.5)\n",
    "def criterion(input, target):\n",
    "    ## Other Losses\n",
    "    # Normal loss\n",
    "    #loss = (((input[0] - target)/torch.exp(input[1]))**2+input[1]).mean()\n",
    "    # Laplace loss\n",
    "    #loss = (torch.abs((input[0] - target)/torch.exp(input[1]))+input[1]).mean()\n",
    "    # t-distribution loss\n",
    "    #nu = 3\n",
    "    #loss = ((nu + 1)/2*torch.log(1+((input[0] - target)/torch.exp(input[1]))**2/nu)+input[1]).mean()\n",
    "    # print(input, target)\n",
    "\n",
    "    ## Quanile Loss\n",
    "    q1 = 0.20\n",
    "    q2 = 0.5\n",
    "    q3 = 0.80\n",
    "    \n",
    "\n",
    "    ## Keras quantile loss, https://www.evergreeninnovations.co/blog-quantile-loss-function-for-machine-learning/    \n",
    "    #e = y_p-y    \n",
    "    #return tf.keras.backend.mean(tf.keras.backend.maximum(q*e, (q-1)*e))\n",
    "\n",
    "    ## Quantile Loss\n",
    "    ## for q1, q2, q3\n",
    "    #print(input.shape)\n",
    "    #print(input[:,0:1].shape)\n",
    "#     print(yqs.shape)\n",
    "    e1 = input[:, 0] - target # !!! if input[:,0]  -> shape = (1000,)\n",
    "    e2 = input[:, 1] - target\n",
    "    e3 = input[:, 2] - target\n",
    "    eq1 = torch.max(q1*e1, (q1-1)*e1)\n",
    "    eq2 = torch.max(q2*e2, (q2-1)*e2)\n",
    "    eq3 = torch.max(q3*e3, (q3-1)*e3)\n",
    "    \n",
    "#     eq1 = torch.max(0.05*e1, (0.05-1)*e1)\n",
    "#     eq2 = torch.max(0.5*e2, (0.5-1)*e2)\n",
    "#     eq3 = torch.max(0.95*e3, (0.95-1)*e3)\n",
    "    loss = (eq1 + eq2 + eq3).mean()\n",
    "\n",
    "    return loss\n",
    "    \n",
    "\n",
    "for step in range(5000):\n",
    "    #yq1, yq2, yq3 = model(x)\n",
    "    #loss = criterion(input=(yq1, yq2, yq3), target=y)\n",
    "    yqs = modelA(train_x_tr)\n",
    "    loss = criterion(input=yqs, target =train_y_tr)\n",
    "    lossl.append(loss)\n",
    "    #print(yqs.shape, train_y_tr.shape)\n",
    "    optimizer.zero_grad()\n",
    "    loss.backward()\n",
    "    optimizer.step()\n",
    "\n",
    "    if (step+1) % 1000 == 0:\n",
    "        \"\"\"\n",
    "        Show your intermediate results\n",
    "        \"\"\"\n",
    "        print('epoch {} loss={:.4}'.format(step+1, loss.data.item()))\n",
    "        pass\n",
    "    if (step+1)%500 == 0:\n",
    "        scheduler.step()"
   ]
  },
  {
   "cell_type": "code",
   "execution_count": 27,
   "id": "219e279a",
   "metadata": {
    "id": "219e279a"
   },
   "outputs": [],
   "source": [
    "y_pred = modelA(test_x_tr) #Predicting"
   ]
  },
  {
   "cell_type": "code",
   "execution_count": 28,
   "id": "83013c4e",
   "metadata": {
    "colab": {
     "base_uri": "https://localhost:8080/"
    },
    "executionInfo": {
     "elapsed": 10,
     "status": "ok",
     "timestamp": 1642511339010,
     "user": {
      "displayName": "Divyansh Raghuwanshi",
      "photoUrl": "https://lh3.googleusercontent.com/a/default-user=s64",
      "userId": "09313975529274446593"
     },
     "user_tz": -330
    },
    "id": "83013c4e",
    "outputId": "869d962a-7fa0-428f-9cd5-66d851920d0e"
   },
   "outputs": [
    {
     "data": {
      "text/plain": [
       "tensor([[ 1699.0186,  1699.0873,  1699.0292],\n",
       "        [11499.9941, 11500.1387, 11499.9434],\n",
       "        [11750.1504, 11750.2158, 11750.0703],\n",
       "        ...,\n",
       "        [17549.9199, 17550.2715, 17549.9551],\n",
       "        [  999.0038,   999.0892,   999.0402],\n",
       "        [ 2500.0383,  2500.1150,  2500.0422]], grad_fn=<AddmmBackward0>)"
      ]
     },
     "execution_count": 28,
     "metadata": {},
     "output_type": "execute_result"
    }
   ],
   "source": [
    "y_pred"
   ]
  },
  {
   "cell_type": "code",
   "execution_count": 29,
   "id": "28532dd5",
   "metadata": {
    "colab": {
     "base_uri": "https://localhost:8080/"
    },
    "executionInfo": {
     "elapsed": 4,
     "status": "ok",
     "timestamp": 1642511340635,
     "user": {
      "displayName": "Divyansh Raghuwanshi",
      "photoUrl": "https://lh3.googleusercontent.com/a/default-user=s64",
      "userId": "09313975529274446593"
     },
     "user_tz": -330
    },
    "id": "28532dd5",
    "outputId": "1f9f5036-1bdc-41fd-f5c4-d2289f21d615"
   },
   "outputs": [
    {
     "data": {
      "text/plain": [
       "tensor([ 1699., 11500., 11750.,  ..., 17550.,   999.,  2500.])"
      ]
     },
     "execution_count": 29,
     "metadata": {},
     "output_type": "execute_result"
    }
   ],
   "source": [
    "test_y_tr"
   ]
  },
  {
   "cell_type": "code",
   "execution_count": 30,
   "id": "d4f08124",
   "metadata": {
    "colab": {
     "base_uri": "https://localhost:8080/"
    },
    "executionInfo": {
     "elapsed": 364,
     "status": "ok",
     "timestamp": 1642511341623,
     "user": {
      "displayName": "Divyansh Raghuwanshi",
      "photoUrl": "https://lh3.googleusercontent.com/a/default-user=s64",
      "userId": "09313975529274446593"
     },
     "user_tz": -330
    },
    "id": "d4f08124",
    "outputId": "21fbedd4-054c-41c3-aca1-5bd5448c0dfb"
   },
   "outputs": [
    {
     "data": {
      "text/plain": [
       "array([ 1699., 11500., 11750., ..., 17550.,   999.,  2500.], dtype=float32)"
      ]
     },
     "execution_count": 30,
     "metadata": {},
     "output_type": "execute_result"
    }
   ],
   "source": [
    "y_pred_array = np.array(test_y_tr)\n",
    "y_pred_array"
   ]
  },
  {
   "cell_type": "code",
   "execution_count": 31,
   "id": "d98f11f2",
   "metadata": {
    "colab": {
     "base_uri": "https://localhost:8080/"
    },
    "executionInfo": {
     "elapsed": 12,
     "status": "ok",
     "timestamp": 1642511342652,
     "user": {
      "displayName": "Divyansh Raghuwanshi",
      "photoUrl": "https://lh3.googleusercontent.com/a/default-user=s64",
      "userId": "09313975529274446593"
     },
     "user_tz": -330
    },
    "id": "d98f11f2",
    "outputId": "788a9650-7e3f-4fc8-9d83-6731ebd03056"
   },
   "outputs": [
    {
     "data": {
      "text/plain": [
       "array([[ 1699.0186 ,  1699.0873 ,  1699.0292 ],\n",
       "       [11499.994  , 11500.139  , 11499.943  ],\n",
       "       [11750.15   , 11750.216  , 11750.07   ],\n",
       "       ...,\n",
       "       [17549.92   , 17550.271  , 17549.955  ],\n",
       "       [  999.0038 ,   999.08923,   999.0402 ],\n",
       "       [ 2500.0383 ,  2500.115  ,  2500.0422 ]], dtype=float32)"
      ]
     },
     "execution_count": 31,
     "metadata": {},
     "output_type": "execute_result"
    }
   ],
   "source": [
    "predictions = y_pred.detach().cpu().numpy()\n",
    "predictions"
   ]
  },
  {
   "cell_type": "code",
   "execution_count": 32,
   "id": "8e576fd9",
   "metadata": {
    "id": "8e576fd9"
   },
   "outputs": [],
   "source": [
    "predictions_mean = predictions[:, 1]"
   ]
  },
  {
   "cell_type": "code",
   "execution_count": 33,
   "id": "2833bec3",
   "metadata": {
    "colab": {
     "base_uri": "https://localhost:8080/"
    },
    "executionInfo": {
     "elapsed": 5,
     "status": "ok",
     "timestamp": 1642511344723,
     "user": {
      "displayName": "Divyansh Raghuwanshi",
      "photoUrl": "https://lh3.googleusercontent.com/a/default-user=s64",
      "userId": "09313975529274446593"
     },
     "user_tz": -330
    },
    "id": "2833bec3",
    "outputId": "25845ac8-7913-4080-c2c2-ab9cea11dff1"
   },
   "outputs": [
    {
     "data": {
      "text/plain": [
       "array([ 1699.0873 , 11500.139  , 11750.216  , ..., 17550.271  ,\n",
       "         999.08923,  2500.115  ], dtype=float32)"
      ]
     },
     "execution_count": 33,
     "metadata": {},
     "output_type": "execute_result"
    }
   ],
   "source": [
    "predictions_mean"
   ]
  },
  {
   "cell_type": "code",
   "execution_count": 34,
   "id": "cea33338",
   "metadata": {
    "colab": {
     "base_uri": "https://localhost:8080/"
    },
    "executionInfo": {
     "elapsed": 385,
     "status": "ok",
     "timestamp": 1642511347904,
     "user": {
      "displayName": "Divyansh Raghuwanshi",
      "photoUrl": "https://lh3.googleusercontent.com/a/default-user=s64",
      "userId": "09313975529274446593"
     },
     "user_tz": -330
    },
    "id": "cea33338",
    "outputId": "87bf081f-6b9d-4696-cfb7-fd33eb8b0c0b"
   },
   "outputs": [
    {
     "data": {
      "text/plain": [
       "array([ 1699., 11500., 11750., ..., 17550.,   999.,  2500.], dtype=float32)"
      ]
     },
     "execution_count": 34,
     "metadata": {},
     "output_type": "execute_result"
    }
   ],
   "source": [
    "y_pred_array"
   ]
  },
  {
   "cell_type": "code",
   "execution_count": 35,
   "id": "c3d834f9",
   "metadata": {
    "id": "c3d834f9"
   },
   "outputs": [],
   "source": [
    "lossl = [x.detach().cpu().numpy() for x in lossl]"
   ]
  },
  {
   "cell_type": "code",
   "execution_count": 36,
   "id": "749a3721",
   "metadata": {
    "colab": {
     "base_uri": "https://localhost:8080/",
     "height": 282
    },
    "executionInfo": {
     "elapsed": 944,
     "status": "ok",
     "timestamp": 1642511350245,
     "user": {
      "displayName": "Divyansh Raghuwanshi",
      "photoUrl": "https://lh3.googleusercontent.com/a/default-user=s64",
      "userId": "09313975529274446593"
     },
     "user_tz": -330
    },
    "id": "749a3721",
    "outputId": "d4b86633-58b7-4802-f65f-19db63cfe1c1",
    "scrolled": true
   },
   "outputs": [
    {
     "data": {
      "text/plain": [
       "[<matplotlib.lines.Line2D at 0x210baf9d0d0>]"
      ]
     },
     "execution_count": 36,
     "metadata": {},
     "output_type": "execute_result"
    },
    {
     "data": {
      "image/png": "[encoded data removed]",
      "text/plain": [
       "<Figure size 432x288 with 1 Axes>"
      ]
     },
     "metadata": {
      "needs_background": "light"
     },
     "output_type": "display_data"
    }
   ],
   "source": [
    "lossl = np.array(lossl)\n",
    "ind = [i for i in range(1, lossl.shape[0]+1)]\n",
    "plt.plot(ind, lossl)"
   ]
  },
  {
   "cell_type": "markdown",
   "id": "0425c69f",
   "metadata": {},
   "source": [
    "## Checking validity of predictions"
   ]
  },
  {
   "cell_type": "code",
   "execution_count": 37,
   "id": "d3b27dbd",
   "metadata": {},
   "outputs": [],
   "source": [
    "param_list = []\n",
    "for params in modelA.parameters():\n",
    "    param_list.append(list(params.detach().numpy()))"
   ]
  },
  {
   "cell_type": "code",
   "execution_count": 38,
   "id": "2d175580",
   "metadata": {},
   "outputs": [],
   "source": [
    "coeff_upper = (param_list[0][0]).reshape((len(param_list[0][0]), 1))\n",
    "coeff_lower = param_list[0][2].reshape((len(param_list[0][0]), 1))\n",
    "coeff_ = param_list[0][1].reshape((len(param_list[0][0]), 1))"
   ]
  },
  {
   "cell_type": "code",
   "execution_count": 39,
   "id": "edb31920",
   "metadata": {},
   "outputs": [
    {
     "data": {
      "text/plain": [
       "(21, 1)"
      ]
     },
     "execution_count": 39,
     "metadata": {},
     "output_type": "execute_result"
    }
   ],
   "source": [
    "coeff_upper.shape"
   ]
  },
  {
   "cell_type": "markdown",
   "id": "faee0b66",
   "metadata": {},
   "source": [
    "### Evaluating the Model"
   ]
  },
  {
   "cell_type": "code",
   "execution_count": 40,
   "id": "15a38dbe",
   "metadata": {
    "scrolled": true
   },
   "outputs": [
    {
     "data": {
      "text/plain": [
       "0.094105534"
      ]
     },
     "execution_count": 40,
     "metadata": {},
     "output_type": "execute_result"
    }
   ],
   "source": [
    "mae(predictions_mean, y_test) #Model Performance"
   ]
  },
  {
   "cell_type": "code",
   "execution_count": 42,
   "id": "9e7d6f45",
   "metadata": {},
   "outputs": [
    {
     "name": "stderr",
     "output_type": "stream",
     "text": [
      "C:\\Users\\hp-u\\anaconda3\\lib\\site-packages\\sklearn\\linear_model\\_ridge.py:147: LinAlgWarning: Ill-conditioned matrix (rcond=3.61772e-13): result may not be accurate.\n",
      "  return linalg.solve(A, Xy, sym_pos=True,\n"
     ]
    },
    {
     "data": {
      "text/plain": [
       "0.23347326"
      ]
     },
     "execution_count": 42,
     "metadata": {},
     "output_type": "execute_result"
    }
   ],
   "source": [
    "ridge = Ridge()  # Evaluating against a ridge regressor\n",
    "ridge = ridge.fit(train_x, train_y)\n",
    "ridge_preds = ridge.predict(X_test)\n",
    "mae(y_test, ridge_preds)"
   ]
  },
  {
   "cell_type": "code",
   "execution_count": null,
   "id": "b20cf804",
   "metadata": {},
   "outputs": [],
   "source": []
  }
 ],
 "metadata": {
  "colab": {
   "collapsed_sections": [],
   "name": "Copy of Linear_QuantileReg_Pytorch_1 (1).ipynb",
   "provenance": [
    {
     "file_id": "1nGxK4_Ue45e91WNbYAigX8fjR3FqMys2",
     "timestamp": 1642536179005
    }
   ]
  },
  "kernelspec": {
   "display_name": "Python 3 (ipykernel)",
   "language": "python",
   "name": "python3"
  },
  "language_info": {
   "codemirror_mode": {
    "name": "ipython",
    "version": 3
   },
   "file_extension": ".py",
   "mimetype": "text/x-python",
   "name": "python",
   "nbconvert_exporter": "python",
   "pygments_lexer": "ipython3",
   "version": "3.9.7"
  }
 },
 "nbformat": 4,
 "nbformat_minor": 5
}
